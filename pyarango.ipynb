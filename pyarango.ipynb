{
 "cells": [
  {
   "cell_type": "code",
   "execution_count": 1,
   "metadata": {},
   "outputs": [
    {
     "name": "stdout",
     "output_type": "stream",
     "text": [
      "Collecting pyArango\n",
      "  Using cached https://files.pythonhosted.org/packages/c6/e0/0de9f4b248c97377a03d852287c7517f6abd518540cd1dc3e6894383fbfc/pyArango-1.3.4-py2.py3-none-any.whl\n",
      "Collecting datetime (from pyArango)\n",
      "  Using cached https://files.pythonhosted.org/packages/73/22/a5297f3a1f92468cc737f8ce7ba6e5f245fcfafeae810ba37bd1039ea01c/DateTime-4.3-py2.py3-none-any.whl\n",
      "Collecting future (from pyArango)\n",
      "Collecting requests>=2.7.0 (from pyArango)\n",
      "  Using cached https://files.pythonhosted.org/packages/45/1e/0c169c6a5381e241ba7404532c16a21d86ab872c9bed8bdcd4c423954103/requests-2.24.0-py2.py3-none-any.whl\n",
      "Collecting pytz (from datetime->pyArango)\n",
      "  Using cached https://files.pythonhosted.org/packages/4f/a4/879454d49688e2fad93e59d7d4efda580b783c745fd2ec2a3adf87b0808d/pytz-2020.1-py2.py3-none-any.whl\n",
      "Collecting zope.interface (from datetime->pyArango)\n",
      "  Using cached https://files.pythonhosted.org/packages/72/06/9dafef79d55502b7dcce98f0a576a2fb8afb45e1cb83667c599d35001ecb/zope.interface-5.1.2-cp36-cp36m-manylinux1_x86_64.whl\n",
      "Collecting certifi>=2017.4.17 (from requests>=2.7.0->pyArango)\n",
      "  Using cached https://files.pythonhosted.org/packages/5e/c4/6c4fe722df5343c33226f0b4e0bb042e4dc13483228b4718baf286f86d87/certifi-2020.6.20-py2.py3-none-any.whl\n",
      "Collecting idna<3,>=2.5 (from requests>=2.7.0->pyArango)\n",
      "  Using cached https://files.pythonhosted.org/packages/a2/38/928ddce2273eaa564f6f50de919327bf3a00f091b5baba8dfa9460f3a8a8/idna-2.10-py2.py3-none-any.whl\n",
      "Collecting chardet<4,>=3.0.2 (from requests>=2.7.0->pyArango)\n",
      "  Using cached https://files.pythonhosted.org/packages/bc/a9/01ffebfb562e4274b6487b4bb1ddec7ca55ec7510b22e4c51f14098443b8/chardet-3.0.4-py2.py3-none-any.whl\n",
      "Collecting urllib3!=1.25.0,!=1.25.1,<1.26,>=1.21.1 (from requests>=2.7.0->pyArango)\n",
      "  Using cached https://files.pythonhosted.org/packages/9f/f0/a391d1463ebb1b233795cabfc0ef38d3db4442339de68f847026199e69d7/urllib3-1.25.10-py2.py3-none-any.whl\n",
      "Collecting setuptools (from zope.interface->datetime->pyArango)\n",
      "  Using cached https://files.pythonhosted.org/packages/44/a6/7fb6e8b3f4a6051e72e4e2218889351f0ee484b9ee17e995f5ccff780300/setuptools-50.3.0-py3-none-any.whl\n",
      "Installing collected packages: pytz, setuptools, zope.interface, datetime, future, certifi, idna, chardet, urllib3, requests, pyArango\n",
      "Successfully installed certifi-2020.6.20 chardet-3.0.4 datetime-4.3 future-0.18.2 idna-2.10 pyArango-1.3.4 pytz-2020.1 requests-2.24.0 setuptools-50.3.0 urllib3-1.25.10 zope.interface-5.1.2\n"
     ]
    }
   ],
   "source": [
    "!pip3 install pyArango --user"
   ]
  },
  {
   "cell_type": "code",
   "execution_count": 2,
   "metadata": {},
   "outputs": [],
   "source": [
    "from pyArango.connection import *\n",
    "conn = Connection(username=\"root\", password=\"graphdbbenchmark\")\n",
    "db = conn.createDatabase(name=\"new\")\n",
    "db = conn[\"new\"]"
   ]
  },
  {
   "cell_type": "code",
   "execution_count": 5,
   "metadata": {},
   "outputs": [
    {
     "data": {
      "text/plain": [
       "ArangoDB database: new"
      ]
     },
     "execution_count": 5,
     "metadata": {},
     "output_type": "execute_result"
    }
   ],
   "source": [
    "db"
   ]
  },
  {
   "cell_type": "code",
   "execution_count": 6,
   "metadata": {},
   "outputs": [],
   "source": [
    "apex = db.createCollection(name=\"apex\")"
   ]
  },
  {
   "cell_type": "code",
   "execution_count": 8,
   "metadata": {},
   "outputs": [
    {
     "name": "stdout",
     "output_type": "stream",
     "text": [
      "{'_key': '6.ac', '_id': 'apex/6.ac', '_rev': '_aSOnnmi---', 'count': 1, 'time_first': 1584458512, 'time_last': 1584458512, 'rrname': 'server.6.ac', 'rrtype': 'A', 'bailiwick': '6.ac.'}\n"
     ]
    }
   ],
   "source": [
    "import json\n",
    "with open('data/apex.json', 'r') as data_file:\n",
    "    json_data = data_file.read()\n",
    "data = json.loads(json_data)\n",
    "print(data[0])"
   ]
  },
  {
   "cell_type": "code",
   "execution_count": 9,
   "metadata": {},
   "outputs": [],
   "source": [
    "for obj in data:\n",
    "    doc = apex.createDocument()\n",
    "    doc['id'] = obj['_id']    \n",
    "    doc['rrname'] = obj['rrname']\n",
    "    doc['bailiwick'] = obj['bailiwick']\n",
    "    doc._key = obj['_key']\n",
    "    doc.save()"
   ]
  },
  {
   "cell_type": "code",
   "execution_count": 10,
   "metadata": {},
   "outputs": [],
   "source": [
    "fqdn = db.createCollection(name=\"fqdn\")\n",
    "with open('data/fqdn.json', 'r') as data_file:\n",
    "    json_data = data_file.read()\n",
    "data = json.loads(json_data)\n",
    "for obj in data:\n",
    "    doc = fqdn.createDocument()\n",
    "    doc['id'] = obj['_id']    \n",
    "    doc['rrname'] = obj['rrname']\n",
    "    doc['bailiwick'] = obj['bailiwick']\n",
    "    doc._key = obj['_key']\n",
    "    doc.save()"
   ]
  },
  {
   "cell_type": "code",
   "execution_count": 11,
   "metadata": {},
   "outputs": [
    {
     "name": "stdout",
     "output_type": "stream",
     "text": [
      "{'_key': '108.30.224.195', '_id': 'ipapex/108.30.224.195', '_rev': '_aSOn9XO---', 'ipapex': '108.30.224.195'}\n"
     ]
    }
   ],
   "source": [
    "ipapex = db.createCollection(name=\"ipapex\")\n",
    "with open('data/ipapex.json', 'r') as data_file:\n",
    "    json_data = data_file.read()\n",
    "data = json.loads(json_data)\n",
    "print(data[0])\n",
    "for obj in data:\n",
    "    doc = ipapex.createDocument()\n",
    "    doc['id'] = obj['_id']\n",
    "    doc['rev'] = obj['_rev']\n",
    "    doc['ipapex'] = obj['ipapex']\n",
    "    doc._key = obj['_key']\n",
    "    doc.save()"
   ]
  },
  {
   "cell_type": "code",
   "execution_count": 12,
   "metadata": {},
   "outputs": [
    {
     "name": "stdout",
     "output_type": "stream",
     "text": [
      "{'_key': '108.30.224.195', '_id': 'ipfqdn/108.30.224.195', '_rev': '_aSOp-4y---', 'ipfqdn': '108.30.224.195'}\n"
     ]
    }
   ],
   "source": [
    "ipfqdn = db.createCollection(name=\"ipfqdn\")\n",
    "with open('data/ipfqdn.json', 'r') as data_file:\n",
    "    json_data = data_file.read()\n",
    "data = json.loads(json_data)\n",
    "print(data[0])\n",
    "for obj in data:\n",
    "    doc = ipfqdn.createDocument()\n",
    "    doc['id'] = obj['_id']\n",
    "    doc['rev'] = obj['_rev']\n",
    "    doc['ipfqdn'] = obj['ipfqdn']\n",
    "    doc._key = obj['_key']\n",
    "    doc.save()"
   ]
  },
  {
   "cell_type": "code",
   "execution_count": 19,
   "metadata": {},
   "outputs": [
    {
     "name": "stdout",
     "output_type": "stream",
     "text": [
      "{'_key': '723350', '_id': 'r_ipapex/723350', '_from': 'apex/6.ac', '_to': 'ipapex/108.30.224.195', '_rev': '_aSOpvnq---', 'type': 'A', 'time_stamp': '2020-03-18'}\n"
     ]
    }
   ],
   "source": [
    "r_ipapex = db.createCollection(\"Edges\",name=\"r_ipapex_1\")\n",
    "with open('data/r_ipapex.json', 'r') as data_file:\n",
    "    json_data = data_file.read()\n",
    "data = json.loads(json_data)\n",
    "print(data[0])\n",
    "for obj in data:\n",
    "    doc = r_ipapex.createDocument()\n",
    "    doc._from = obj['_from']\n",
    "    doc._to = obj['_to']\n",
    "    doc._key = obj['_key']\n",
    "    doc.save()"
   ]
  },
  {
   "cell_type": "code",
   "execution_count": 20,
   "metadata": {},
   "outputs": [
    {
     "name": "stdout",
     "output_type": "stream",
     "text": [
      "{'_key': '748449', '_id': 'r_ipfqdn/748449', '_from': 'fqdn/server.6.ac', '_to': 'ipfqdn/108.30.224.195', '_rev': '_aSOqlXa---', 'type': 'A', 'time_stamp': '2020-03-18'}\n"
     ]
    }
   ],
   "source": [
    "r_ipfqdn = db.createCollection(\"Edges\",name=\"r_ipfqdn\")\n",
    "with open('data/r_ipfqdn.json', 'r') as data_file:\n",
    "    json_data = data_file.read()\n",
    "data = json.loads(json_data)\n",
    "print(data[0])\n",
    "for obj in data:\n",
    "    doc = r_ipfqdn.createDocument()\n",
    "    doc._from = obj['_from']\n",
    "    doc._to = obj['_to']\n",
    "    doc._key = obj['_key']\n",
    "    doc.save()"
   ]
  },
  {
   "cell_type": "code",
   "execution_count": 21,
   "metadata": {},
   "outputs": [
    {
     "name": "stdout",
     "output_type": "stream",
     "text": [
      "{'_key': '773616', '_id': 'r_fqdn_apex/773616', '_from': 'fqdn/server.6.ac', '_to': 'apex/6.ac', '_rev': '_aSOs_hS---', 'time_stamp': '2020-03-18'}\n"
     ]
    }
   ],
   "source": [
    "r_fqdn_apex = db.createCollection(\"Edges\",name=\"r_fqdn_apex\")\n",
    "with open('data/r_fqdn_apex.json', 'r') as data_file:\n",
    "    json_data = data_file.read()\n",
    "data = json.loads(json_data)\n",
    "print(data[0])\n",
    "for obj in data:\n",
    "    doc = r_fqdn_apex.createDocument()\n",
    "    doc._from = obj['_from']\n",
    "    doc._to = obj['_to']\n",
    "    doc._key = obj['_key']\n",
    "    doc.save()"
   ]
  },
  {
   "cell_type": "code",
   "execution_count": 25,
   "metadata": {},
   "outputs": [
    {
     "data": {
      "text/plain": [
       "<EdgeCollection r_ipfqdn>"
      ]
     },
     "execution_count": 25,
     "metadata": {},
     "output_type": "execute_result"
    }
   ],
   "source": [
    "from arango import ArangoClient\n",
    "client = ArangoClient(hosts='http://localhost:8529')\n",
    "db = client.db('new', username='root', password='graphdbbenchmark')\n",
    "graph = db.create_graph('final')\n",
    "graph.create_edge_definition(\n",
    "    edge_collection='r_fqdn_apex',\n",
    "    from_vertex_collections=['fqdn'],\n",
    "    to_vertex_collections=['apex']\n",
    ")\n",
    "graph.create_edge_definition(\n",
    "    edge_collection='r_ipapex_1',\n",
    "    from_vertex_collections=['apex'],\n",
    "    to_vertex_collections=['ipapex']\n",
    ")\n",
    "graph.create_edge_definition(\n",
    "    edge_collection='r_ipfqdn',\n",
    "    from_vertex_collections=['fqdn'],\n",
    "    to_vertex_collections=['ipfqdn']\n",
    ")"
   ]
  },
  {
   "cell_type": "code",
   "execution_count": 2,
   "metadata": {},
   "outputs": [],
   "source": [
    "from arango import ArangoClient\n",
    "client = ArangoClient(hosts='http://localhost:8529')\n",
    "db = client.db('new', username='root', password='graphdbbenchmark')"
   ]
  },
  {
   "cell_type": "code",
   "execution_count": 7,
   "metadata": {},
   "outputs": [
    {
     "name": "stdout",
     "output_type": "stream",
     "text": [
      "--- 0.14640164375305176 seconds ---\n"
     ]
    }
   ],
   "source": [
    "import time\n",
    "start_time = time.time()\n",
    "db.aql.execute(\"FOR v,e,p IN 1..5 any '{}' GRAPH 'final' LIMIT 1000 RETURN p\".format('apex/ut.ac'))\n",
    "print(\"--- %s seconds ---\" % (time.time() - start_time))"
   ]
  },
  {
   "cell_type": "code",
   "execution_count": 31,
   "metadata": {},
   "outputs": [
    {
     "name": "stdout",
     "output_type": "stream",
     "text": [
      "{'vertices': [{'_key': 'vpn.ac', '_id': 'apex/vpn.ac', '_rev': '_bOE0Pky---', 'id': 'apex/vpn.ac', 'rrname': 'fr1.vpn.ac', 'bailiwick': 'vpn.ac.'}, {'_key': '62.210.97.14', '_id': 'ipapex/62.210.97.14', '_rev': '_bOE5dfK---', 'id': 'ipapex/62.210.97.14', 'rev': '_aSOn9Xa-_G', 'ipapex': '62.210.97.14'}, {'_key': '159.122.131.12', '_id': 'ipapex/159.122.131.12', '_rev': '_bOE5dfe---', 'id': 'ipapex/159.122.131.12', 'rev': '_aSOn9Xa-_I', 'ipapex': '159.122.131.12'}, {'_key': '169.57.0.180', '_id': 'ipapex/169.57.0.180', '_rev': '_bOE5dfy---', 'id': 'ipapex/169.57.0.180', 'rev': '_aSOn9Xa-_K', 'ipapex': '169.57.0.180'}, {'_key': '5.79.71.227', '_id': 'ipapex/5.79.71.227', '_rev': '_bOE5dgG---', 'id': 'ipapex/5.79.71.227', 'rev': '_aSOn9Xa-_M', 'ipapex': '5.79.71.227'}, {'_key': '185.100.84.135', '_id': 'ipapex/185.100.84.135', '_rev': '_bOE5dge---', 'id': 'ipapex/185.100.84.135', 'rev': '_aSOn9Xa-_O', 'ipapex': '185.100.84.135'}, {'_key': '37.120.140.115', '_id': 'ipapex/37.120.140.115', '_rev': '_bOE5dgy---', 'id': 'ipapex/37.120.140.115', 'rev': '_aSOn9Xa-_Q', 'ipapex': '37.120.140.115'}, {'_key': '31.3.153.248', '_id': 'ipapex/31.3.153.248', '_rev': '_bOE5dhC---', 'id': 'ipapex/31.3.153.248', 'rev': '_aSOn9Xa-_S', 'ipapex': '31.3.153.248'}, {'_key': '91.109.241.36', '_id': 'ipapex/91.109.241.36', '_rev': '_bOE5dhm---', 'id': 'ipapex/91.109.241.36', 'rev': '_aSOn9Xa-_U', 'ipapex': '91.109.241.36'}, {'_key': '108.62.56.67', '_id': 'ipapex/108.62.56.67', '_rev': '_bOE5diC---', 'id': 'ipapex/108.62.56.67', 'rev': '_aSOn9Xa-_W', 'ipapex': '108.62.56.67'}, {'_key': '198.27.96.172', '_id': 'ipapex/198.27.96.172', '_rev': '_bOE5diW---', 'id': 'ipapex/198.27.96.172', 'rev': '_aSOn9Xa-_Y', 'ipapex': '198.27.96.172'}, {'_key': '62.210.253.157', '_id': 'ipapex/62.210.253.157', '_rev': '_bOE5diq---', 'id': 'ipapex/62.210.253.157', 'rev': '_aSOn9Xa-_a', 'ipapex': '62.210.253.157'}, {'_key': '185.100.84.245', '_id': 'ipapex/185.100.84.245', '_rev': '_bOE5dj----', 'id': 'ipapex/185.100.84.245', 'rev': '_aSOn9Xa-_c', 'ipapex': '185.100.84.245'}, {'_key': '185.100.84.247', '_id': 'ipapex/185.100.84.247', '_rev': '_bOE5djW---', 'id': 'ipapex/185.100.84.247', 'rev': '_aSOn9Xa-_e', 'ipapex': '185.100.84.247'}, {'_key': '185.100.84.246', '_id': 'ipapex/185.100.84.246', '_rev': '_bOE5djq---', 'id': 'ipapex/185.100.84.246', 'rev': '_aSOn9Xa-_g', 'ipapex': '185.100.84.246'}, {'_key': '185.100.84.135', '_id': 'ipapex/185.100.84.135', '_rev': '_bOE5dge---', 'id': 'ipapex/185.100.84.135', 'rev': '_aSOn9Xa-_O', 'ipapex': '185.100.84.135'}, {'_key': '78.157.211.27', '_id': 'ipapex/78.157.211.27', '_rev': '_bOE5dk----', 'id': 'ipapex/78.157.211.27', 'rev': '_aSOn9Xa-_i', 'ipapex': '78.157.211.27'}, {'_key': '185.245.87.251', '_id': 'ipapex/185.245.87.251', '_rev': '_bOE5dka---', 'id': 'ipapex/185.245.87.251', 'rev': '_aSOn9Xa-_k', 'ipapex': '185.245.87.251'}, {'_key': '46.165.230.17', '_id': 'ipapex/46.165.230.17', '_rev': '_bOE5dl----', 'id': 'ipapex/46.165.230.17', 'rev': '_aSOn9Xa-_m', 'ipapex': '46.165.230.17'}, {'_key': '78.110.169.85', '_id': 'ipapex/78.110.169.85', '_rev': '_bOE5dlS---', 'id': 'ipapex/78.110.169.85', 'rev': '_aSOn9Xa-_o', 'ipapex': '78.110.169.85'}, {'_key': '178.162.205.225', '_id': 'ipapex/178.162.205.225', '_rev': '_bOE5dlq---', 'id': 'ipapex/178.162.205.225', 'rev': '_aSOn9Xa-_q', 'ipapex': '178.162.205.225'}, {'_key': '185.130.184.99', '_id': 'ipapex/185.130.184.99', '_rev': '_bOE5dmC---', 'id': 'ipapex/185.130.184.99', 'rev': '_aSOn9Xa-_s', 'ipapex': '185.130.184.99'}, {'_key': '62.210.97.14', '_id': 'ipapex/62.210.97.14', '_rev': '_bOE5dfK---', 'id': 'ipapex/62.210.97.14', 'rev': '_aSOn9Xa-_G', 'ipapex': '62.210.97.14'}, {'_key': '94.46.160.54', '_id': 'ipapex/94.46.160.54', '_rev': '_bOE5dmW---', 'id': 'ipapex/94.46.160.54', 'rev': '_aSOn9Xa-_u', 'ipapex': '94.46.160.54'}, {'_key': '198.27.96.172', '_id': 'ipapex/198.27.96.172', '_rev': '_bOE5diW---', 'id': 'ipapex/198.27.96.172', 'rev': '_aSOn9Xa-_Y', 'ipapex': '198.27.96.172'}, {'_key': '198.144.156.32', '_id': 'ipapex/198.144.156.32', '_rev': '_bOE5dmq---', 'id': 'ipapex/198.144.156.32', 'rev': '_aSOn9Xa-_w', 'ipapex': '198.144.156.32'}, {'_key': '85.159.233.183', '_id': 'ipapex/85.159.233.183', '_rev': '_bOE5dn----', 'id': 'ipapex/85.159.233.183', 'rev': '_aSOn9Xa-_y', 'ipapex': '85.159.233.183'}], 'paths': [{'edges': [], 'vertices': [{'_key': 'vpn.ac', '_id': 'apex/vpn.ac', '_rev': '_bOE0Pky---', 'id': 'apex/vpn.ac', 'rrname': 'fr1.vpn.ac', 'bailiwick': 'vpn.ac.'}]}, {'edges': [{'_key': '723998', '_id': 'r_ipapex_1/723998', '_from': 'apex/vpn.ac', '_to': 'ipapex/62.210.97.14', '_rev': '_bOJuesO---'}], 'vertices': [{'_key': 'vpn.ac', '_id': 'apex/vpn.ac', '_rev': '_bOE0Pky---', 'id': 'apex/vpn.ac', 'rrname': 'fr1.vpn.ac', 'bailiwick': 'vpn.ac.'}, {'_key': '62.210.97.14', '_id': 'ipapex/62.210.97.14', '_rev': '_bOE5dfK---', 'id': 'ipapex/62.210.97.14', 'rev': '_aSOn9Xa-_G', 'ipapex': '62.210.97.14'}]}, {'edges': [{'_key': '723999', '_id': 'r_ipapex_1/723999', '_from': 'apex/vpn.ac', '_to': 'ipapex/159.122.131.12', '_rev': '_bOJuese---'}], 'vertices': [{'_key': 'vpn.ac', '_id': 'apex/vpn.ac', '_rev': '_bOE0Pky---', 'id': 'apex/vpn.ac', 'rrname': 'fr1.vpn.ac', 'bailiwick': 'vpn.ac.'}, {'_key': '159.122.131.12', '_id': 'ipapex/159.122.131.12', '_rev': '_bOE5dfe---', 'id': 'ipapex/159.122.131.12', 'rev': '_aSOn9Xa-_I', 'ipapex': '159.122.131.12'}]}, {'edges': [{'_key': '724000', '_id': 'r_ipapex_1/724000', '_from': 'apex/vpn.ac', '_to': 'ipapex/169.57.0.180', '_rev': '_bOJuesq---'}], 'vertices': [{'_key': 'vpn.ac', '_id': 'apex/vpn.ac', '_rev': '_bOE0Pky---', 'id': 'apex/vpn.ac', 'rrname': 'fr1.vpn.ac', 'bailiwick': 'vpn.ac.'}, {'_key': '169.57.0.180', '_id': 'ipapex/169.57.0.180', '_rev': '_bOE5dfy---', 'id': 'ipapex/169.57.0.180', 'rev': '_aSOn9Xa-_K', 'ipapex': '169.57.0.180'}]}, {'edges': [{'_key': '724001', '_id': 'r_ipapex_1/724001', '_from': 'apex/vpn.ac', '_to': 'ipapex/5.79.71.227', '_rev': '_bOJues2---'}], 'vertices': [{'_key': 'vpn.ac', '_id': 'apex/vpn.ac', '_rev': '_bOE0Pky---', 'id': 'apex/vpn.ac', 'rrname': 'fr1.vpn.ac', 'bailiwick': 'vpn.ac.'}, {'_key': '5.79.71.227', '_id': 'ipapex/5.79.71.227', '_rev': '_bOE5dgG---', 'id': 'ipapex/5.79.71.227', 'rev': '_aSOn9Xa-_M', 'ipapex': '5.79.71.227'}]}, {'edges': [{'_key': '724002', '_id': 'r_ipapex_1/724002', '_from': 'apex/vpn.ac', '_to': 'ipapex/185.100.84.135', '_rev': '_bOJuetC---'}], 'vertices': [{'_key': 'vpn.ac', '_id': 'apex/vpn.ac', '_rev': '_bOE0Pky---', 'id': 'apex/vpn.ac', 'rrname': 'fr1.vpn.ac', 'bailiwick': 'vpn.ac.'}, {'_key': '185.100.84.135', '_id': 'ipapex/185.100.84.135', '_rev': '_bOE5dge---', 'id': 'ipapex/185.100.84.135', 'rev': '_aSOn9Xa-_O', 'ipapex': '185.100.84.135'}]}, {'edges': [{'_key': '724003', '_id': 'r_ipapex_1/724003', '_from': 'apex/vpn.ac', '_to': 'ipapex/37.120.140.115', '_rev': '_bOJuetW---'}], 'vertices': [{'_key': 'vpn.ac', '_id': 'apex/vpn.ac', '_rev': '_bOE0Pky---', 'id': 'apex/vpn.ac', 'rrname': 'fr1.vpn.ac', 'bailiwick': 'vpn.ac.'}, {'_key': '37.120.140.115', '_id': 'ipapex/37.120.140.115', '_rev': '_bOE5dgy---', 'id': 'ipapex/37.120.140.115', 'rev': '_aSOn9Xa-_Q', 'ipapex': '37.120.140.115'}]}, {'edges': [{'_key': '724004', '_id': 'r_ipapex_1/724004', '_from': 'apex/vpn.ac', '_to': 'ipapex/31.3.153.248', '_rev': '_bOJueti---'}], 'vertices': [{'_key': 'vpn.ac', '_id': 'apex/vpn.ac', '_rev': '_bOE0Pky---', 'id': 'apex/vpn.ac', 'rrname': 'fr1.vpn.ac', 'bailiwick': 'vpn.ac.'}, {'_key': '31.3.153.248', '_id': 'ipapex/31.3.153.248', '_rev': '_bOE5dhC---', 'id': 'ipapex/31.3.153.248', 'rev': '_aSOn9Xa-_S', 'ipapex': '31.3.153.248'}]}, {'edges': [{'_key': '724005', '_id': 'r_ipapex_1/724005', '_from': 'apex/vpn.ac', '_to': 'ipapex/91.109.241.36', '_rev': '_bOJuety---'}], 'vertices': [{'_key': 'vpn.ac', '_id': 'apex/vpn.ac', '_rev': '_bOE0Pky---', 'id': 'apex/vpn.ac', 'rrname': 'fr1.vpn.ac', 'bailiwick': 'vpn.ac.'}, {'_key': '91.109.241.36', '_id': 'ipapex/91.109.241.36', '_rev': '_bOE5dhm---', 'id': 'ipapex/91.109.241.36', 'rev': '_aSOn9Xa-_U', 'ipapex': '91.109.241.36'}]}, {'edges': [{'_key': '724006', '_id': 'r_ipapex_1/724006', '_from': 'apex/vpn.ac', '_to': 'ipapex/108.62.56.67', '_rev': '_bOJueuG---'}], 'vertices': [{'_key': 'vpn.ac', '_id': 'apex/vpn.ac', '_rev': '_bOE0Pky---', 'id': 'apex/vpn.ac', 'rrname': 'fr1.vpn.ac', 'bailiwick': 'vpn.ac.'}, {'_key': '108.62.56.67', '_id': 'ipapex/108.62.56.67', '_rev': '_bOE5diC---', 'id': 'ipapex/108.62.56.67', 'rev': '_aSOn9Xa-_W', 'ipapex': '108.62.56.67'}]}, {'edges': [{'_key': '724007', '_id': 'r_ipapex_1/724007', '_from': 'apex/vpn.ac', '_to': 'ipapex/198.27.96.172', '_rev': '_bOJueuW---'}], 'vertices': [{'_key': 'vpn.ac', '_id': 'apex/vpn.ac', '_rev': '_bOE0Pky---', 'id': 'apex/vpn.ac', 'rrname': 'fr1.vpn.ac', 'bailiwick': 'vpn.ac.'}, {'_key': '198.27.96.172', '_id': 'ipapex/198.27.96.172', '_rev': '_bOE5diW---', 'id': 'ipapex/198.27.96.172', 'rev': '_aSOn9Xa-_Y', 'ipapex': '198.27.96.172'}]}, {'edges': [{'_key': '724008', '_id': 'r_ipapex_1/724008', '_from': 'apex/vpn.ac', '_to': 'ipapex/62.210.253.157', '_rev': '_bOJueum---'}], 'vertices': [{'_key': 'vpn.ac', '_id': 'apex/vpn.ac', '_rev': '_bOE0Pky---', 'id': 'apex/vpn.ac', 'rrname': 'fr1.vpn.ac', 'bailiwick': 'vpn.ac.'}, {'_key': '62.210.253.157', '_id': 'ipapex/62.210.253.157', '_rev': '_bOE5diq---', 'id': 'ipapex/62.210.253.157', 'rev': '_aSOn9Xa-_a', 'ipapex': '62.210.253.157'}]}, {'edges': [{'_key': '724009', '_id': 'r_ipapex_1/724009', '_from': 'apex/vpn.ac', '_to': 'ipapex/185.100.84.245', '_rev': '_bOJueuy---'}], 'vertices': [{'_key': 'vpn.ac', '_id': 'apex/vpn.ac', '_rev': '_bOE0Pky---', 'id': 'apex/vpn.ac', 'rrname': 'fr1.vpn.ac', 'bailiwick': 'vpn.ac.'}, {'_key': '185.100.84.245', '_id': 'ipapex/185.100.84.245', '_rev': '_bOE5dj----', 'id': 'ipapex/185.100.84.245', 'rev': '_aSOn9Xa-_c', 'ipapex': '185.100.84.245'}]}, {'edges': [{'_key': '724010', '_id': 'r_ipapex_1/724010', '_from': 'apex/vpn.ac', '_to': 'ipapex/185.100.84.247', '_rev': '_bOJuevK---'}], 'vertices': [{'_key': 'vpn.ac', '_id': 'apex/vpn.ac', '_rev': '_bOE0Pky---', 'id': 'apex/vpn.ac', 'rrname': 'fr1.vpn.ac', 'bailiwick': 'vpn.ac.'}, {'_key': '185.100.84.247', '_id': 'ipapex/185.100.84.247', '_rev': '_bOE5djW---', 'id': 'ipapex/185.100.84.247', 'rev': '_aSOn9Xa-_e', 'ipapex': '185.100.84.247'}]}, {'edges': [{'_key': '724011', '_id': 'r_ipapex_1/724011', '_from': 'apex/vpn.ac', '_to': 'ipapex/185.100.84.246', '_rev': '_bOJuevW---'}], 'vertices': [{'_key': 'vpn.ac', '_id': 'apex/vpn.ac', '_rev': '_bOE0Pky---', 'id': 'apex/vpn.ac', 'rrname': 'fr1.vpn.ac', 'bailiwick': 'vpn.ac.'}, {'_key': '185.100.84.246', '_id': 'ipapex/185.100.84.246', '_rev': '_bOE5djq---', 'id': 'ipapex/185.100.84.246', 'rev': '_aSOn9Xa-_g', 'ipapex': '185.100.84.246'}]}, {'edges': [{'_key': '724012', '_id': 'r_ipapex_1/724012', '_from': 'apex/vpn.ac', '_to': 'ipapex/185.100.84.135', '_rev': '_bOJuevm---'}], 'vertices': [{'_key': 'vpn.ac', '_id': 'apex/vpn.ac', '_rev': '_bOE0Pky---', 'id': 'apex/vpn.ac', 'rrname': 'fr1.vpn.ac', 'bailiwick': 'vpn.ac.'}, {'_key': '185.100.84.135', '_id': 'ipapex/185.100.84.135', '_rev': '_bOE5dge---', 'id': 'ipapex/185.100.84.135', 'rev': '_aSOn9Xa-_O', 'ipapex': '185.100.84.135'}]}, {'edges': [{'_key': '724013', '_id': 'r_ipapex_1/724013', '_from': 'apex/vpn.ac', '_to': 'ipapex/78.157.211.27', '_rev': '_bOJuevy---'}], 'vertices': [{'_key': 'vpn.ac', '_id': 'apex/vpn.ac', '_rev': '_bOE0Pky---', 'id': 'apex/vpn.ac', 'rrname': 'fr1.vpn.ac', 'bailiwick': 'vpn.ac.'}, {'_key': '78.157.211.27', '_id': 'ipapex/78.157.211.27', '_rev': '_bOE5dk----', 'id': 'ipapex/78.157.211.27', 'rev': '_aSOn9Xa-_i', 'ipapex': '78.157.211.27'}]}, {'edges': [{'_key': '724014', '_id': 'r_ipapex_1/724014', '_from': 'apex/vpn.ac', '_to': 'ipapex/185.245.87.251', '_rev': '_bOJuew----'}], 'vertices': [{'_key': 'vpn.ac', '_id': 'apex/vpn.ac', '_rev': '_bOE0Pky---', 'id': 'apex/vpn.ac', 'rrname': 'fr1.vpn.ac', 'bailiwick': 'vpn.ac.'}, {'_key': '185.245.87.251', '_id': 'ipapex/185.245.87.251', '_rev': '_bOE5dka---', 'id': 'ipapex/185.245.87.251', 'rev': '_aSOn9Xa-_k', 'ipapex': '185.245.87.251'}]}, {'edges': [{'_key': '724015', '_id': 'r_ipapex_1/724015', '_from': 'apex/vpn.ac', '_to': 'ipapex/46.165.230.17', '_rev': '_bOJuewW---'}], 'vertices': [{'_key': 'vpn.ac', '_id': 'apex/vpn.ac', '_rev': '_bOE0Pky---', 'id': 'apex/vpn.ac', 'rrname': 'fr1.vpn.ac', 'bailiwick': 'vpn.ac.'}, {'_key': '46.165.230.17', '_id': 'ipapex/46.165.230.17', '_rev': '_bOE5dl----', 'id': 'ipapex/46.165.230.17', 'rev': '_aSOn9Xa-_m', 'ipapex': '46.165.230.17'}]}, {'edges': [{'_key': '724016', '_id': 'r_ipapex_1/724016', '_from': 'apex/vpn.ac', '_to': 'ipapex/78.110.169.85', '_rev': '_bOJuewm---'}], 'vertices': [{'_key': 'vpn.ac', '_id': 'apex/vpn.ac', '_rev': '_bOE0Pky---', 'id': 'apex/vpn.ac', 'rrname': 'fr1.vpn.ac', 'bailiwick': 'vpn.ac.'}, {'_key': '78.110.169.85', '_id': 'ipapex/78.110.169.85', '_rev': '_bOE5dlS---', 'id': 'ipapex/78.110.169.85', 'rev': '_aSOn9Xa-_o', 'ipapex': '78.110.169.85'}]}, {'edges': [{'_key': '724017', '_id': 'r_ipapex_1/724017', '_from': 'apex/vpn.ac', '_to': 'ipapex/178.162.205.225', '_rev': '_bOJuew2---'}], 'vertices': [{'_key': 'vpn.ac', '_id': 'apex/vpn.ac', '_rev': '_bOE0Pky---', 'id': 'apex/vpn.ac', 'rrname': 'fr1.vpn.ac', 'bailiwick': 'vpn.ac.'}, {'_key': '178.162.205.225', '_id': 'ipapex/178.162.205.225', '_rev': '_bOE5dlq---', 'id': 'ipapex/178.162.205.225', 'rev': '_aSOn9Xa-_q', 'ipapex': '178.162.205.225'}]}, {'edges': [{'_key': '724018', '_id': 'r_ipapex_1/724018', '_from': 'apex/vpn.ac', '_to': 'ipapex/185.130.184.99', '_rev': '_bOJuexC---'}], 'vertices': [{'_key': 'vpn.ac', '_id': 'apex/vpn.ac', '_rev': '_bOE0Pky---', 'id': 'apex/vpn.ac', 'rrname': 'fr1.vpn.ac', 'bailiwick': 'vpn.ac.'}, {'_key': '185.130.184.99', '_id': 'ipapex/185.130.184.99', '_rev': '_bOE5dmC---', 'id': 'ipapex/185.130.184.99', 'rev': '_aSOn9Xa-_s', 'ipapex': '185.130.184.99'}]}, {'edges': [{'_key': '724019', '_id': 'r_ipapex_1/724019', '_from': 'apex/vpn.ac', '_to': 'ipapex/62.210.97.14', '_rev': '_bOJuexO---'}], 'vertices': [{'_key': 'vpn.ac', '_id': 'apex/vpn.ac', '_rev': '_bOE0Pky---', 'id': 'apex/vpn.ac', 'rrname': 'fr1.vpn.ac', 'bailiwick': 'vpn.ac.'}, {'_key': '62.210.97.14', '_id': 'ipapex/62.210.97.14', '_rev': '_bOE5dfK---', 'id': 'ipapex/62.210.97.14', 'rev': '_aSOn9Xa-_G', 'ipapex': '62.210.97.14'}]}, {'edges': [{'_key': '724020', '_id': 'r_ipapex_1/724020', '_from': 'apex/vpn.ac', '_to': 'ipapex/94.46.160.54', '_rev': '_bOJuexa---'}], 'vertices': [{'_key': 'vpn.ac', '_id': 'apex/vpn.ac', '_rev': '_bOE0Pky---', 'id': 'apex/vpn.ac', 'rrname': 'fr1.vpn.ac', 'bailiwick': 'vpn.ac.'}, {'_key': '94.46.160.54', '_id': 'ipapex/94.46.160.54', '_rev': '_bOE5dmW---', 'id': 'ipapex/94.46.160.54', 'rev': '_aSOn9Xa-_u', 'ipapex': '94.46.160.54'}]}, {'edges': [{'_key': '724021', '_id': 'r_ipapex_1/724021', '_from': 'apex/vpn.ac', '_to': 'ipapex/198.27.96.172', '_rev': '_bOJuexm---'}], 'vertices': [{'_key': 'vpn.ac', '_id': 'apex/vpn.ac', '_rev': '_bOE0Pky---', 'id': 'apex/vpn.ac', 'rrname': 'fr1.vpn.ac', 'bailiwick': 'vpn.ac.'}, {'_key': '198.27.96.172', '_id': 'ipapex/198.27.96.172', '_rev': '_bOE5diW---', 'id': 'ipapex/198.27.96.172', 'rev': '_aSOn9Xa-_Y', 'ipapex': '198.27.96.172'}]}, {'edges': [{'_key': '724022', '_id': 'r_ipapex_1/724022', '_from': 'apex/vpn.ac', '_to': 'ipapex/198.144.156.32', '_rev': '_bOJuexy---'}], 'vertices': [{'_key': 'vpn.ac', '_id': 'apex/vpn.ac', '_rev': '_bOE0Pky---', 'id': 'apex/vpn.ac', 'rrname': 'fr1.vpn.ac', 'bailiwick': 'vpn.ac.'}, {'_key': '198.144.156.32', '_id': 'ipapex/198.144.156.32', '_rev': '_bOE5dmq---', 'id': 'ipapex/198.144.156.32', 'rev': '_aSOn9Xa-_w', 'ipapex': '198.144.156.32'}]}, {'edges': [{'_key': '724023', '_id': 'r_ipapex_1/724023', '_from': 'apex/vpn.ac', '_to': 'ipapex/85.159.233.183', '_rev': '_bOJueyC---'}], 'vertices': [{'_key': 'vpn.ac', '_id': 'apex/vpn.ac', '_rev': '_bOE0Pky---', 'id': 'apex/vpn.ac', 'rrname': 'fr1.vpn.ac', 'bailiwick': 'vpn.ac.'}, {'_key': '85.159.233.183', '_id': 'ipapex/85.159.233.183', '_rev': '_bOE5dn----', 'id': 'ipapex/85.159.233.183', 'rev': '_aSOn9Xa-_y', 'ipapex': '85.159.233.183'}]}]}\n"
     ]
    }
   ],
   "source": [
    "print(result)"
   ]
  }
 ],
 "metadata": {
  "kernelspec": {
   "display_name": "Python 3",
   "language": "python",
   "name": "python3"
  },
  "language_info": {
   "codemirror_mode": {
    "name": "ipython",
    "version": 3
   },
   "file_extension": ".py",
   "mimetype": "text/x-python",
   "name": "python",
   "nbconvert_exporter": "python",
   "pygments_lexer": "ipython3",
   "version": "3.6.9"
  }
 },
 "nbformat": 4,
 "nbformat_minor": 2
}
