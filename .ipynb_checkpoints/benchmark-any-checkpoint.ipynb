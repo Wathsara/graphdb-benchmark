{
 "cells": [
  {
   "cell_type": "code",
   "execution_count": 1,
   "metadata": {},
   "outputs": [],
   "source": [
    "import time\n",
    "import csv\n",
    "from csv import reader\n",
    "import pyorient\n",
    "from pyArango.connection import *\n",
    "from neo4j import GraphDatabase\n",
    "from arango import ArangoClient"
   ]
  },
  {
   "cell_type": "code",
   "execution_count": 2,
   "metadata": {},
   "outputs": [],
   "source": [
    "candidates = ['id.ac','ru.ac','ut.ac','acs.ac','kcu.ac']"
   ]
  },
  {
   "cell_type": "code",
   "execution_count": 3,
   "metadata": {},
   "outputs": [],
   "source": [
    "with open('results_outbound/arangodb.csv', 'w', newline='') as file:\n",
    "    writer = csv.writer(file)\n",
    "    writer.writerow([\"2\",\"3\",\"4\",\"5\",\"6\",\"7\",\"8\",\"9\",\"10\"])\n",
    "    file.close()\n",
    "with open('results_outbound/orientdb.csv', 'w', newline='') as file:\n",
    "    writer = csv.writer(file)\n",
    "    writer.writerow([\"2\",\"3\",\"4\",\"5\",\"6\",\"7\",\"8\",\"9\",\"10\"])\n",
    "    file.close()\n",
    "with open('results_outbound/neo4j.csv', 'w', newline='') as file:\n",
    "    writer = csv.writer(file)\n",
    "    writer.writerow([\"2\",\"3\",\"4\",\"5\",\"6\",\"7\",\"8\",\"9\",\"10\"])\n",
    "    file.close()"
   ]
  },
  {
   "cell_type": "code",
   "execution_count": 4,
   "metadata": {},
   "outputs": [],
   "source": [
    "def writedata(data,filepath):\n",
    "    with open(filepath, 'a', newline='') as file:\n",
    "        writer = csv.writer(file)\n",
    "        writer.writerow(data)\n",
    "        file.close()"
   ]
  },
  {
   "cell_type": "code",
   "execution_count": 5,
   "metadata": {},
   "outputs": [
    {
     "data": {
      "text/plain": [
       "[<pyorient.otypes.OrientCluster at 0x7f4206f81898>,\n",
       " <pyorient.otypes.OrientCluster at 0x7f4206f852e8>,\n",
       " <pyorient.otypes.OrientCluster at 0x7f4206f85358>,\n",
       " <pyorient.otypes.OrientCluster at 0x7f4206f91630>,\n",
       " <pyorient.otypes.OrientCluster at 0x7f4206f91cc0>,\n",
       " <pyorient.otypes.OrientCluster at 0x7f4206d10048>,\n",
       " <pyorient.otypes.OrientCluster at 0x7f4206d10080>,\n",
       " <pyorient.otypes.OrientCluster at 0x7f4206d100b8>,\n",
       " <pyorient.otypes.OrientCluster at 0x7f4206d100f0>,\n",
       " <pyorient.otypes.OrientCluster at 0x7f4206d10128>,\n",
       " <pyorient.otypes.OrientCluster at 0x7f4206d10160>,\n",
       " <pyorient.otypes.OrientCluster at 0x7f4206d10198>,\n",
       " <pyorient.otypes.OrientCluster at 0x7f4206d101d0>,\n",
       " <pyorient.otypes.OrientCluster at 0x7f4206d10208>,\n",
       " <pyorient.otypes.OrientCluster at 0x7f4206d10240>,\n",
       " <pyorient.otypes.OrientCluster at 0x7f4206d10278>,\n",
       " <pyorient.otypes.OrientCluster at 0x7f4206d102b0>,\n",
       " <pyorient.otypes.OrientCluster at 0x7f4206d102e8>,\n",
       " <pyorient.otypes.OrientCluster at 0x7f4206d10320>,\n",
       " <pyorient.otypes.OrientCluster at 0x7f4206d10358>,\n",
       " <pyorient.otypes.OrientCluster at 0x7f4206d10390>,\n",
       " <pyorient.otypes.OrientCluster at 0x7f4206d103c8>,\n",
       " <pyorient.otypes.OrientCluster at 0x7f4206d10400>,\n",
       " <pyorient.otypes.OrientCluster at 0x7f4206d10438>,\n",
       " <pyorient.otypes.OrientCluster at 0x7f4206d10470>,\n",
       " <pyorient.otypes.OrientCluster at 0x7f4206d104a8>,\n",
       " <pyorient.otypes.OrientCluster at 0x7f4206d104e0>,\n",
       " <pyorient.otypes.OrientCluster at 0x7f4206d10518>,\n",
       " <pyorient.otypes.OrientCluster at 0x7f4206d10550>,\n",
       " <pyorient.otypes.OrientCluster at 0x7f4206d10588>]"
      ]
     },
     "execution_count": 5,
     "metadata": {},
     "output_type": "execute_result"
    }
   ],
   "source": [
    "# Orientdb Connection\n",
    "client = pyorient.OrientDB(\"localhost\", 2424)\n",
    "client.set_session_token(True)\n",
    "session_id = client.connect(\"root\", \"orientdb\")\n",
    "client.db_open( \"new\", \"root\", \"orientdb\" )"
   ]
  },
  {
   "cell_type": "code",
   "execution_count": 6,
   "metadata": {},
   "outputs": [
    {
     "name": "stdout",
     "output_type": "stream",
     "text": [
      "['id.ac', 0.04303622245788574, 0.0346527099609375, 0.03695821762084961, 0.034674644470214844, 0.03679203987121582, 0.037154197692871094, 0.03856062889099121, 0.03819894790649414, 0.035748958587646484]\n",
      "['ru.ac', 0.03638935089111328, 0.05596566200256348, 0.03413558006286621, 0.05483698844909668, 0.053917646408081055, 0.05578899383544922, 0.05503058433532715, 0.05347394943237305, 0.04642915725708008]\n",
      "['ut.ac', 0.040322065353393555, 0.03345799446105957, 0.03547096252441406, 0.034693241119384766, 0.03435373306274414, 0.03731250762939453, 0.03494715690612793, 0.03846311569213867, 0.03387045860290527]\n",
      "['acs.ac', 0.045647382736206055, 0.035514116287231445, 0.034395456314086914, 0.03425240516662598, 0.03587174415588379, 0.03490400314331055, 0.0341188907623291, 0.034700632095336914, 0.03436541557312012]\n",
      "['kcu.ac', 0.0341644287109375, 0.03467845916748047, 0.03381943702697754, 0.03477597236633301, 0.03361940383911133, 0.035297393798828125, 0.034792184829711914, 0.03447842597961426, 0.038155555725097656]\n"
     ]
    }
   ],
   "source": [
    "orientResult=[]\n",
    "for apex in candidates:\n",
    "    orientResult.append(apex)\n",
    "    for depth in range(2,11):\n",
    "        start_time = time.time()\n",
    "        result = client.query(\"SELECT $path FROM (TRAVERSE out() FROM (SELECT @rid from `apex` where name = '{}') MAXDEPTH {})\".format(apex,depth),1000,\"*:-1\")\n",
    "        orientResult.append((time.time() - start_time))\n",
    "    writedata(orientResult,'results_outbound/orientdb.csv')\n",
    "    print(orientResult)\n",
    "    orientResult=[]"
   ]
  },
  {
   "cell_type": "code",
   "execution_count": 7,
   "metadata": {},
   "outputs": [],
   "source": [
    "client = ArangoClient(hosts='http://localhost:8529')\n",
    "db = client.db('new', username='root', password='graphdbbenchmark')"
   ]
  },
  {
   "cell_type": "code",
   "execution_count": 8,
   "metadata": {},
   "outputs": [
    {
     "name": "stdout",
     "output_type": "stream",
     "text": [
      "['id.ac', 0.00852060317993164, 0.003639698028564453, 0.0027179718017578125, 0.003232240676879883, 0.0028312206268310547, 0.0027229785919189453, 0.002699613571166992, 0.002711057662963867, 0.0025517940521240234]\n",
      "['ru.ac', 0.003523588180541992, 0.002773761749267578, 0.0027327537536621094, 0.002805471420288086, 0.003046751022338867, 0.0029449462890625, 0.003033876419067383, 0.0027196407318115234, 0.0026950836181640625]\n",
      "['ut.ac', 0.004674196243286133, 0.0030777454376220703, 0.003047943115234375, 0.0032105445861816406, 0.003083467483520508, 0.003030061721801758, 0.003127574920654297, 0.00316619873046875, 0.0029137134552001953]\n",
      "['acs.ac', 0.0039594173431396484, 0.0031735897064208984, 0.0031583309173583984, 0.0030944347381591797, 0.0030066967010498047, 0.002895355224609375, 0.0030488967895507812, 0.0032796859741210938, 0.003306150436401367]\n",
      "['kcu.ac', 0.0036191940307617188, 0.0029757022857666016, 0.0028247833251953125, 0.0030417442321777344, 0.0027997493743896484, 0.002827167510986328, 0.0026938915252685547, 0.0027174949645996094, 0.002810955047607422]\n"
     ]
    }
   ],
   "source": [
    "arangoResult=[]\n",
    "for apex in candidates:\n",
    "    arangoResult.append(apex)\n",
    "    for depth in range(2,11):        \n",
    "        query = \"FOR v,e,p IN 1..{} outbound 'apex/{}' GRAPH 'final' LIMIT 1000 RETURN p\".format(depth,apex)\n",
    "        start_time = time.time()\n",
    "        db.aql.execute(query)\n",
    "        arangoResult.append((time.time() - start_time))\n",
    "    writedata(arangoResult,'results_outbound/arangodb.csv')\n",
    "    print(arangoResult)\n",
    "    arangoResult=[]"
   ]
  },
  {
   "cell_type": "code",
   "execution_count": 9,
   "metadata": {},
   "outputs": [],
   "source": [
    "# Neo4j Connection\n",
    "uri = \"neo4j://0.0.0.0:7687\"\n",
    "driver = GraphDatabase.driver(uri, auth=(\"neo4j\", \"test\"))"
   ]
  },
  {
   "cell_type": "code",
   "execution_count": 10,
   "metadata": {},
   "outputs": [
    {
     "name": "stdout",
     "output_type": "stream",
     "text": [
      "['id.ac', 0.021681785583496094, 0.009170770645141602, 0.009092092514038086, 0.008731603622436523, 0.008736610412597656, 0.009308815002441406, 0.009567499160766602, 0.00856781005859375, 0.008534669876098633]\n",
      "['ru.ac', 0.008972406387329102, 0.008643627166748047, 0.008581161499023438, 0.008840084075927734, 0.008650064468383789, 0.008639335632324219, 0.008824586868286133, 0.008620023727416992, 0.009140729904174805]\n",
      "['ut.ac', 0.008949995040893555, 0.008911371231079102, 0.008800029754638672, 0.008622407913208008, 0.009276866912841797, 0.008962631225585938, 0.008667945861816406, 0.009158134460449219, 0.008922815322875977]\n",
      "['acs.ac', 0.010807991027832031, 0.01029062271118164, 0.00864863395690918, 0.008571147918701172, 0.008529424667358398, 0.008452892303466797, 0.008859395980834961, 0.008695840835571289, 0.008969306945800781]\n",
      "['kcu.ac', 0.00920724868774414, 0.013455867767333984, 0.009850740432739258, 0.009084939956665039, 0.008718013763427734, 0.008705854415893555, 0.008733034133911133, 0.008669853210449219, 0.008711099624633789]\n"
     ]
    }
   ],
   "source": [
    "neoResult=[]\n",
    "for apex in candidates:\n",
    "    neoResult.append(apex)\n",
    "    for depth in range(2,11):        \n",
    "        with driver.session(database='neo4j') as session:\n",
    "            start_time = time.time()\n",
    "            query = \"MATCH p=(a:apex)-[r*1..{}]->() where a._id='apex/{}' RETURN p LIMIT 1000\".format(depth,apex)\n",
    "            result=session.run(query)           \n",
    "            neoResult.append((time.time() - start_time))\n",
    "    writedata(neoResult,'results_outbound/neo4j.csv')\n",
    "    print(neoResult)\n",
    "    neoResult=[]"
   ]
  },
  {
   "cell_type": "code",
   "execution_count": 11,
   "metadata": {},
   "outputs": [
    {
     "name": "stdout",
     "output_type": "stream",
     "text": [
      "[0.011923885345458985, 0.010094451904296874, 0.008994531631469727, 0.008770036697387695, 0.008782196044921874, 0.008813905715942382, 0.008930492401123046, 0.008742332458496094, 0.008855724334716797]\n"
     ]
    }
   ],
   "source": [
    "neo=[]\n",
    "list=[]\n",
    "with open('results_outbound/neo4j.csv', 'r') as read_obj:\n",
    "    csv_reader = reader(read_obj)\n",
    "    header = next(csv_reader)\n",
    "    if header != None:\n",
    "        for row in csv_reader:\n",
    "            list.append(row)\n",
    "        for i in range(1,10):\n",
    "            sum = 0.0\n",
    "            for row in list:\n",
    "                sum = sum + float(row[i])\n",
    "            neo.append(sum/5)\n",
    "print(neo)"
   ]
  },
  {
   "cell_type": "code",
   "execution_count": 12,
   "metadata": {},
   "outputs": [
    {
     "name": "stdout",
     "output_type": "stream",
     "text": [
      "[0.004859399795532226, 0.0031280994415283205, 0.0028963565826416017, 0.0030768871307373046, 0.0029535770416259767, 0.002884101867675781, 0.0029207706451416016, 0.0029188156127929687, 0.002855539321899414]\n"
     ]
    }
   ],
   "source": [
    "arango=[]\n",
    "list=[]\n",
    "with open('results_outbound/arangodb.csv', 'r') as read_obj:\n",
    "    csv_reader = reader(read_obj)\n",
    "    header = next(csv_reader)\n",
    "    if header != None:\n",
    "        for row in csv_reader:\n",
    "            list.append(row)\n",
    "        for i in range(1,10):\n",
    "            sum = 0.0\n",
    "            for row in list:\n",
    "                sum = sum + float(row[i])\n",
    "            arango.append(sum/5)\n",
    "print(arango)"
   ]
  },
  {
   "cell_type": "code",
   "execution_count": 13,
   "metadata": {},
   "outputs": [
    {
     "name": "stdout",
     "output_type": "stream",
     "text": [
      "[0.03991189002990723, 0.038853788375854494, 0.034955930709838864, 0.03864665031433105, 0.03891091346740723, 0.040091419219970705, 0.03948988914489746, 0.03986301422119141, 0.03771390914916992]\n"
     ]
    }
   ],
   "source": [
    "orient=[]\n",
    "list=[]\n",
    "with open('results_outbound/orientdb.csv', 'r') as read_obj:\n",
    "    csv_reader = reader(read_obj)\n",
    "    header = next(csv_reader)\n",
    "    if header != None:\n",
    "        for row in csv_reader:\n",
    "            list.append(row)\n",
    "        for i in range(1,10):\n",
    "            sum = 0.0\n",
    "            for row in list:\n",
    "                sum = sum + float(row[i])\n",
    "            orient.append(sum/5)\n",
    "print(orient)"
   ]
  },
  {
   "cell_type": "code",
   "execution_count": 14,
   "metadata": {},
   "outputs": [
    {
     "data": {
      "image/png": "[encoded data removed]",
      "text/plain": [
       "<Figure size 1080x720 with 1 Axes>"
      ]
     },
     "metadata": {
      "needs_background": "light"
     },
     "output_type": "display_data"
    }
   ],
   "source": [
    "import matplotlib.pyplot as plt\n",
    "plt.figure(figsize=(15, 10))\n",
    "plt.xlabel(\"Depth\")\n",
    "plt.ylabel(\"Time (s)\")\n",
    "plt.title(\"Graph DB Query Performance - OutBound\")\n",
    "depth = [2,3,4,5,6,7,8,9,10]\n",
    "plt.plot(depth, arango, 'r',label='ArangoDB')\n",
    "plt.plot(depth, neo, 'b',label='Neo4j')\n",
    "plt.plot(depth, orient, 'y',label='OrientDB')\n",
    "plt.legend(loc=\"upper left\")\n",
    "plt.grid(True)\n",
    "plt.show()"
   ]
  },
  {
   "cell_type": "code",
   "execution_count": null,
   "metadata": {},
   "outputs": [],
   "source": []
  }
 ],
 "metadata": {
  "kernelspec": {
   "display_name": "Python 3",
   "language": "python",
   "name": "python3"
  },
  "language_info": {
   "codemirror_mode": {
    "name": "ipython",
    "version": 3
   },
   "file_extension": ".py",
   "mimetype": "text/x-python",
   "name": "python",
   "nbconvert_exporter": "python",
   "pygments_lexer": "ipython3",
   "version": "3.6.9"
  }
 },
 "nbformat": 4,
 "nbformat_minor": 2
}
