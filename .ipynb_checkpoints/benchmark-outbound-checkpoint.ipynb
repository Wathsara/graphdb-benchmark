{
 "cells": [
  {
   "cell_type": "code",
   "execution_count": 1,
   "metadata": {},
   "outputs": [],
   "source": [
    "import time\n",
    "import csv\n",
    "from csv import reader\n",
    "import pyorient\n",
    "from pyArango.connection import *\n",
    "from neo4j import GraphDatabase\n",
    "from arango import ArangoClient"
   ]
  },
  {
   "cell_type": "code",
   "execution_count": 2,
   "metadata": {},
   "outputs": [],
   "source": [
    "candidates = ['id.ac','ru.ac','ut.ac','acs.ac','kcu.ac']"
   ]
  },
  {
   "cell_type": "code",
   "execution_count": 3,
   "metadata": {},
   "outputs": [],
   "source": [
    "with open('results/arangodb.csv', 'w', newline='') as file:\n",
    "    writer = csv.writer(file)\n",
    "    writer.writerow([\"2\",\"3\",\"4\",\"5\",\"6\",\"7\",\"8\",\"9\",\"10\"])\n",
    "    file.close()\n",
    "with open('results/orientdb.csv', 'w', newline='') as file:\n",
    "    writer = csv.writer(file)\n",
    "    writer.writerow([\"2\",\"3\",\"4\",\"5\",\"6\",\"7\",\"8\",\"9\",\"10\"])\n",
    "    file.close()\n",
    "with open('results/neo4j.csv', 'w', newline='') as file:\n",
    "    writer = csv.writer(file)\n",
    "    writer.writerow([\"2\",\"3\",\"4\",\"5\",\"6\",\"7\",\"8\",\"9\",\"10\"])\n",
    "    file.close()"
   ]
  },
  {
   "cell_type": "code",
   "execution_count": 4,
   "metadata": {},
   "outputs": [],
   "source": [
    "def writedata(data,filepath):\n",
    "    with open(filepath, 'a', newline='') as file:\n",
    "        writer = csv.writer(file)\n",
    "        writer.writerow(data)\n",
    "        file.close()"
   ]
  },
  {
   "cell_type": "code",
   "execution_count": 5,
   "metadata": {},
   "outputs": [
    {
     "data": {
      "text/plain": [
       "[<pyorient.otypes.OrientCluster at 0x7faee8c79860>,\n",
       " <pyorient.otypes.OrientCluster at 0x7faee8c80320>,\n",
       " <pyorient.otypes.OrientCluster at 0x7faee8c80390>,\n",
       " <pyorient.otypes.OrientCluster at 0x7faee8c8d5c0>,\n",
       " <pyorient.otypes.OrientCluster at 0x7faee8c8dc50>,\n",
       " <pyorient.otypes.OrientCluster at 0x7faee8c96f98>,\n",
       " <pyorient.otypes.OrientCluster at 0x7faee8c96fd0>,\n",
       " <pyorient.otypes.OrientCluster at 0x7faee8a0a048>,\n",
       " <pyorient.otypes.OrientCluster at 0x7faee8a0a080>,\n",
       " <pyorient.otypes.OrientCluster at 0x7faee8a0a0b8>,\n",
       " <pyorient.otypes.OrientCluster at 0x7faee8a0a0f0>,\n",
       " <pyorient.otypes.OrientCluster at 0x7faee8a0a128>,\n",
       " <pyorient.otypes.OrientCluster at 0x7faee8a0a160>,\n",
       " <pyorient.otypes.OrientCluster at 0x7faee8a0a198>,\n",
       " <pyorient.otypes.OrientCluster at 0x7faee8a0a1d0>,\n",
       " <pyorient.otypes.OrientCluster at 0x7faee8a0a208>,\n",
       " <pyorient.otypes.OrientCluster at 0x7faee8a0a240>,\n",
       " <pyorient.otypes.OrientCluster at 0x7faee8a0a278>,\n",
       " <pyorient.otypes.OrientCluster at 0x7faee8a0a2b0>,\n",
       " <pyorient.otypes.OrientCluster at 0x7faee8a0a2e8>,\n",
       " <pyorient.otypes.OrientCluster at 0x7faee8a0a320>,\n",
       " <pyorient.otypes.OrientCluster at 0x7faee8a0a358>,\n",
       " <pyorient.otypes.OrientCluster at 0x7faee8a0a390>,\n",
       " <pyorient.otypes.OrientCluster at 0x7faee8a0a3c8>,\n",
       " <pyorient.otypes.OrientCluster at 0x7faee8a0a400>,\n",
       " <pyorient.otypes.OrientCluster at 0x7faee8a0a438>,\n",
       " <pyorient.otypes.OrientCluster at 0x7faee8a0a470>,\n",
       " <pyorient.otypes.OrientCluster at 0x7faee8a0a4a8>,\n",
       " <pyorient.otypes.OrientCluster at 0x7faee8a0a4e0>,\n",
       " <pyorient.otypes.OrientCluster at 0x7faee8a0a518>]"
      ]
     },
     "execution_count": 5,
     "metadata": {},
     "output_type": "execute_result"
    }
   ],
   "source": [
    "# Orientdb Connection\n",
    "client = pyorient.OrientDB(\"localhost\", 2424)\n",
    "client.set_session_token(True)\n",
    "session_id = client.connect(\"root\", \"orientdb\")\n",
    "client.db_open( \"new\", \"root\", \"orientdb\" )"
   ]
  },
  {
   "cell_type": "code",
   "execution_count": 6,
   "metadata": {},
   "outputs": [
    {
     "name": "stdout",
     "output_type": "stream",
     "text": [
      "['id.ac', 0.04039931297302246, 0.03402352333068848, 0.033647775650024414, 0.033306121826171875, 0.03423595428466797, 0.03394603729248047, 0.0380551815032959, 0.03449201583862305, 0.03400111198425293]\n",
      "['ru.ac', 0.03475451469421387, 0.033371686935424805, 0.03596806526184082, 0.03340721130371094, 0.034554481506347656, 0.042732954025268555, 0.03417778015136719, 0.03325462341308594, 0.03394126892089844]\n",
      "['ut.ac', 0.03392601013183594, 0.03410840034484863, 0.0340266227722168, 0.03404593467712402, 0.0334172248840332, 0.03510308265686035, 0.034044504165649414, 0.03363299369812012, 0.034114837646484375]\n",
      "['acs.ac', 0.03409934043884277, 0.03518795967102051, 0.03455805778503418, 0.04023480415344238, 0.0418701171875, 0.042833805084228516, 0.04135847091674805, 0.03943991661071777, 0.03538250923156738]\n",
      "['kcu.ac', 0.03368330001831055, 0.03318190574645996, 0.03399991989135742, 0.033872127532958984, 0.03527426719665527, 0.03584718704223633, 0.03560590744018555, 0.034035682678222656, 0.03462052345275879]\n"
     ]
    }
   ],
   "source": [
    "orientResult=[]\n",
    "for apex in candidates:\n",
    "    orientResult.append(apex)\n",
    "    for depth in range(2,11):\n",
    "        start_time = time.time()\n",
    "        result = client.query(\"SELECT $path FROM (TRAVERSE out() FROM (SELECT @rid from `apex` where name = '{}') MAXDEPTH {})\".format(apex,depth),1000,\"*:-1\")\n",
    "        orientResult.append((time.time() - start_time))\n",
    "    writedata(orientResult,'results/orientdb.csv')\n",
    "    print(orientResult)\n",
    "    orientResult=[]"
   ]
  },
  {
   "cell_type": "code",
   "execution_count": 7,
   "metadata": {},
   "outputs": [],
   "source": [
    "client = ArangoClient(hosts='http://localhost:8529')\n",
    "db = client.db('new', username='root', password='graphdbbenchmark')"
   ]
  },
  {
   "cell_type": "code",
   "execution_count": 8,
   "metadata": {},
   "outputs": [
    {
     "name": "stdout",
     "output_type": "stream",
     "text": [
      "['id.ac', 0.008255958557128906, 0.0038285255432128906, 0.003532886505126953, 0.0028460025787353516, 0.002856731414794922, 0.0027282238006591797, 0.0026323795318603516, 0.0024814605712890625, 0.0025577545166015625]\n",
      "['ru.ac', 0.0029718875885009766, 0.002403736114501953, 0.0026013851165771484, 0.0028192996978759766, 0.0023124217987060547, 0.0026242733001708984, 0.002450227737426758, 0.002605915069580078, 0.002428770065307617]\n",
      "['ut.ac', 0.003228902816772461, 0.0030715465545654297, 0.003067493438720703, 0.002935171127319336, 0.0026426315307617188, 0.0028471946716308594, 0.002798318862915039, 0.0027337074279785156, 0.002765655517578125]\n",
      "['acs.ac', 0.0035026073455810547, 0.003301382064819336, 0.003238677978515625, 0.0029387474060058594, 0.0029053688049316406, 0.002736806869506836, 0.002798318862915039, 0.002688884735107422, 0.003037691116333008]\n",
      "['kcu.ac', 0.00360870361328125, 0.0031909942626953125, 0.003114938735961914, 0.003346681594848633, 0.0028409957885742188, 0.0032262802124023438, 0.0029141902923583984, 0.0028009414672851562, 0.0028793811798095703]\n"
     ]
    }
   ],
   "source": [
    "arangoResult=[]\n",
    "for apex in candidates:\n",
    "    arangoResult.append(apex)\n",
    "    for depth in range(2,11):\n",
    "        start_time = time.time()\n",
    "        query = \"FOR v,e,p IN 1..{} outbound 'apex/{}' GRAPH 'final' LIMIT 1000 RETURN p\".format(depth,apex)        \n",
    "        db.aql.execute(query)\n",
    "        arangoResult.append((time.time() - start_time))\n",
    "    writedata(arangoResult,'results/arangodb.csv')\n",
    "    print(arangoResult)\n",
    "    arangoResult=[]"
   ]
  },
  {
   "cell_type": "code",
   "execution_count": 9,
   "metadata": {},
   "outputs": [],
   "source": [
    "# Neo4j Connection\n",
    "uri = \"neo4j://0.0.0.0:7687\"\n",
    "driver = GraphDatabase.driver(uri, auth=(\"neo4j\", \"test\"))"
   ]
  },
  {
   "cell_type": "code",
   "execution_count": 10,
   "metadata": {},
   "outputs": [
    {
     "name": "stdout",
     "output_type": "stream",
     "text": [
      "['id.ac', 0.018794775009155273, 0.008661985397338867, 0.008470296859741211, 0.008596658706665039, 0.008630752563476562, 0.008444786071777344, 0.009090662002563477, 0.008421897888183594, 0.008972883224487305]\n",
      "['ru.ac', 0.008813858032226562, 0.008464813232421875, 0.011385440826416016, 0.011372804641723633, 0.011757612228393555, 0.01163172721862793, 0.01168060302734375, 0.009325981140136719, 0.008991479873657227]\n",
      "['ut.ac', 0.009783267974853516, 0.008939027786254883, 0.008807659149169922, 0.008720159530639648, 0.00864410400390625, 0.008611440658569336, 0.008918523788452148, 0.008653402328491211, 0.011135101318359375]\n",
      "['acs.ac', 0.009124517440795898, 0.00884389877319336, 0.008911371231079102, 0.00858306884765625, 0.00879669189453125, 0.008550882339477539, 0.00861501693725586, 0.008758783340454102, 0.008957624435424805]\n",
      "['kcu.ac', 0.009154558181762695, 0.008754968643188477, 0.008579254150390625, 0.008762359619140625, 0.009363889694213867, 0.009037256240844727, 0.008633613586425781, 0.008949518203735352, 0.009090900421142578]\n"
     ]
    }
   ],
   "source": [
    "neoResult=[]\n",
    "for apex in candidates:\n",
    "    neoResult.append(apex)\n",
    "    for depth in range(2,11):        \n",
    "        with driver.session(database='neo4j') as session:\n",
    "            start_time = time.time()\n",
    "            query = \"MATCH p=(a:apex)-[r*1..{}]->() where a._id='apex/{}' RETURN p LIMIT 1000\".format(depth,apex)\n",
    "            result=session.run(query)           \n",
    "            neoResult.append((time.time() - start_time))\n",
    "    writedata(neoResult,'results/neo4j.csv')\n",
    "    print(neoResult)\n",
    "    neoResult=[]"
   ]
  },
  {
   "cell_type": "code",
   "execution_count": 11,
   "metadata": {},
   "outputs": [
    {
     "name": "stdout",
     "output_type": "stream",
     "text": [
      "[0.011134195327758788, 0.008732938766479492, 0.009230804443359376, 0.009207010269165039, 0.009438610076904297, 0.009255218505859374, 0.009387683868408204, 0.008821916580200196, 0.009429597854614257]\n"
     ]
    }
   ],
   "source": [
    "neo=[]\n",
    "list=[]\n",
    "with open('results/neo4j.csv', 'r') as read_obj:\n",
    "    csv_reader = reader(read_obj)\n",
    "    header = next(csv_reader)\n",
    "    if header != None:\n",
    "        for row in csv_reader:\n",
    "            list.append(row)\n",
    "        for i in range(1,10):\n",
    "            sum = 0.0\n",
    "            for row in list:\n",
    "                sum = sum + float(row[i])\n",
    "            neo.append(sum/5)\n",
    "print(neo)"
   ]
  },
  {
   "cell_type": "code",
   "execution_count": 12,
   "metadata": {},
   "outputs": [
    {
     "name": "stdout",
     "output_type": "stream",
     "text": [
      "[0.004313611984252929, 0.003159236907958984, 0.0031110763549804686, 0.0029771804809570314, 0.002711629867553711, 0.0028325557708740235, 0.002718687057495117, 0.002662181854248047, 0.0027338504791259766]\n"
     ]
    }
   ],
   "source": [
    "arango=[]\n",
    "list=[]\n",
    "with open('results/arangodb.csv', 'r') as read_obj:\n",
    "    csv_reader = reader(read_obj)\n",
    "    header = next(csv_reader)\n",
    "    if header != None:\n",
    "        for row in csv_reader:\n",
    "            list.append(row)\n",
    "        for i in range(1,10):\n",
    "            sum = 0.0\n",
    "            for row in list:\n",
    "                sum = sum + float(row[i])\n",
    "            arango.append(sum/5)\n",
    "print(arango)"
   ]
  },
  {
   "cell_type": "code",
   "execution_count": 13,
   "metadata": {},
   "outputs": [
    {
     "name": "stdout",
     "output_type": "stream",
     "text": [
      "[0.03537249565124512, 0.03397469520568848, 0.03444008827209473, 0.03497323989868164, 0.03587040901184082, 0.038092613220214844, 0.03664836883544922, 0.03497104644775391, 0.034412050247192384]\n"
     ]
    }
   ],
   "source": [
    "orient=[]\n",
    "list=[]\n",
    "with open('results/orientdb.csv', 'r') as read_obj:\n",
    "    csv_reader = reader(read_obj)\n",
    "    header = next(csv_reader)\n",
    "    if header != None:\n",
    "        for row in csv_reader:\n",
    "            list.append(row)\n",
    "        for i in range(1,10):\n",
    "            sum = 0.0\n",
    "            for row in list:\n",
    "                sum = sum + float(row[i])\n",
    "            orient.append(sum/5)\n",
    "print(orient)"
   ]
  },
  {
   "cell_type": "code",
   "execution_count": 14,
   "metadata": {},
   "outputs": [
    {
     "data": {
      "image/png": "[encoded data removed]",
      "text/plain": [
       "<Figure size 1080x720 with 1 Axes>"
      ]
     },
     "metadata": {
      "needs_background": "light"
     },
     "output_type": "display_data"
    }
   ],
   "source": [
    "import matplotlib.pyplot as plt\n",
    "plt.figure(figsize=(15, 10))\n",
    "plt.xlabel(\"Depth\")\n",
    "plt.ylabel(\"Time (s)\")\n",
    "plt.title(\"Graph DB Query Performance\")\n",
    "depth = [2,3,4,5,6,7,8,9,10]\n",
    "plt.plot(depth, arango, 'r',label='ArangoDB') # plotting t, a separately \n",
    "plt.plot(depth, neo, 'b',label='Neo4j') # plotting t, b separately \n",
    "plt.plot(depth, orient, 'y',label='OrientDB') # plotting t, b separately \n",
    "plt.legend(loc=\"upper left\")\n",
    "plt.grid(True)\n",
    "plt.show()"
   ]
  },
  {
   "cell_type": "code",
   "execution_count": 15,
   "metadata": {},
   "outputs": [
    {
     "ename": "TypeError",
     "evalue": "unsupported operand type(s) for -: 'list' and 'float'",
     "output_type": "error",
     "traceback": [
      "\u001b[0;31m---------------------------------------------------------------------------\u001b[0m",
      "\u001b[0;31mTypeError\u001b[0m                                 Traceback (most recent call last)",
      "\u001b[0;32m<ipython-input-15-0e877c1fa05c>\u001b[0m in \u001b[0;36m<module>\u001b[0;34m\u001b[0m\n\u001b[0;32m----> 1\u001b[0;31m \u001b[0mprint\u001b[0m\u001b[0;34m(\u001b[0m\u001b[0mdepth\u001b[0m\u001b[0;34m-\u001b[0m\u001b[0;36m0.2\u001b[0m\u001b[0;34m)\u001b[0m\u001b[0;34m\u001b[0m\u001b[0;34m\u001b[0m\u001b[0m\n\u001b[0m",
      "\u001b[0;31mTypeError\u001b[0m: unsupported operand type(s) for -: 'list' and 'float'"
     ]
    }
   ],
   "source": [
    "print(depth-0.2)"
   ]
  },
  {
   "cell_type": "code",
   "execution_count": null,
   "metadata": {},
   "outputs": [],
   "source": [
    "sns.barplot(data = score_data\n",
    "            ,x = 'class'\n",
    "            ,y = 'score'\n",
    "            )"
   ]
  },
  {
   "cell_type": "code",
   "execution_count": null,
   "metadata": {},
   "outputs": [],
   "source": []
  }
 ],
 "metadata": {
  "kernelspec": {
   "display_name": "Python 3",
   "language": "python",
   "name": "python3"
  },
  "language_info": {
   "codemirror_mode": {
    "name": "ipython",
    "version": 3
   },
   "file_extension": ".py",
   "mimetype": "text/x-python",
   "name": "python",
   "nbconvert_exporter": "python",
   "pygments_lexer": "ipython3",
   "version": "3.6.9"
  }
 },
 "nbformat": 4,
 "nbformat_minor": 2
}
