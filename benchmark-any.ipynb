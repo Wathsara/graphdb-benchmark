{
 "cells": [
  {
   "cell_type": "code",
   "execution_count": 1,
   "metadata": {},
   "outputs": [],
   "source": [
    "import time\n",
    "import csv\n",
    "from csv import reader\n",
    "import pyorient\n",
    "from pyArango.connection import *\n",
    "from neo4j import GraphDatabase\n",
    "from arango import ArangoClient\n",
    "import matplotlib.pyplot as plt\n",
    "import numpy as np"
   ]
  },
  {
   "cell_type": "code",
   "execution_count": 2,
   "metadata": {},
   "outputs": [],
   "source": [
    "candidates = ['id.ac','ru.ac','ut.ac','acs.ac','kcu.ac']"
   ]
  },
  {
   "cell_type": "code",
   "execution_count": 3,
   "metadata": {},
   "outputs": [],
   "source": [
    "with open('results_any/arangodb.csv', 'w', newline='') as file:\n",
    "    writer = csv.writer(file)\n",
    "    writer.writerow([\"2\",\"3\",\"4\",\"5\",\"6\",\"7\",\"8\",\"9\",\"10\"])\n",
    "    file.close()\n",
    "with open('results_any/orientdb.csv', 'w', newline='') as file:\n",
    "    writer = csv.writer(file)\n",
    "    writer.writerow([\"2\",\"3\",\"4\",\"5\",\"6\",\"7\",\"8\",\"9\",\"10\"])\n",
    "    file.close()\n",
    "with open('results_any/neo4j.csv', 'w', newline='') as file:\n",
    "    writer = csv.writer(file)\n",
    "    writer.writerow([\"2\",\"3\",\"4\",\"5\",\"6\",\"7\",\"8\",\"9\",\"10\"])\n",
    "    file.close()"
   ]
  },
  {
   "cell_type": "code",
   "execution_count": 4,
   "metadata": {},
   "outputs": [],
   "source": [
    "def writedata(data,filepath):\n",
    "    with open(filepath, 'a', newline='') as file:\n",
    "        writer = csv.writer(file)\n",
    "        writer.writerow(data)\n",
    "        file.close()"
   ]
  },
  {
   "cell_type": "code",
   "execution_count": 5,
   "metadata": {},
   "outputs": [
    {
     "data": {
      "text/plain": [
       "[<pyorient.otypes.OrientCluster at 0x7fc5883599b0>,\n",
       " <pyorient.otypes.OrientCluster at 0x7fc5883485f8>,\n",
       " <pyorient.otypes.OrientCluster at 0x7fc588348630>,\n",
       " <pyorient.otypes.OrientCluster at 0x7fc588088710>,\n",
       " <pyorient.otypes.OrientCluster at 0x7fc588088da0>,\n",
       " <pyorient.otypes.OrientCluster at 0x7fc58809a0f0>,\n",
       " <pyorient.otypes.OrientCluster at 0x7fc58809a128>,\n",
       " <pyorient.otypes.OrientCluster at 0x7fc58809a160>,\n",
       " <pyorient.otypes.OrientCluster at 0x7fc58809a198>,\n",
       " <pyorient.otypes.OrientCluster at 0x7fc58809a1d0>,\n",
       " <pyorient.otypes.OrientCluster at 0x7fc58809a208>,\n",
       " <pyorient.otypes.OrientCluster at 0x7fc58809a240>,\n",
       " <pyorient.otypes.OrientCluster at 0x7fc58809a278>,\n",
       " <pyorient.otypes.OrientCluster at 0x7fc58809a2b0>,\n",
       " <pyorient.otypes.OrientCluster at 0x7fc58809a2e8>,\n",
       " <pyorient.otypes.OrientCluster at 0x7fc58809a320>,\n",
       " <pyorient.otypes.OrientCluster at 0x7fc58809a358>,\n",
       " <pyorient.otypes.OrientCluster at 0x7fc58809a390>,\n",
       " <pyorient.otypes.OrientCluster at 0x7fc58809a3c8>,\n",
       " <pyorient.otypes.OrientCluster at 0x7fc58809a400>,\n",
       " <pyorient.otypes.OrientCluster at 0x7fc58809a438>,\n",
       " <pyorient.otypes.OrientCluster at 0x7fc58809a470>,\n",
       " <pyorient.otypes.OrientCluster at 0x7fc58809a4a8>,\n",
       " <pyorient.otypes.OrientCluster at 0x7fc58809a4e0>,\n",
       " <pyorient.otypes.OrientCluster at 0x7fc58809a518>,\n",
       " <pyorient.otypes.OrientCluster at 0x7fc58809a550>,\n",
       " <pyorient.otypes.OrientCluster at 0x7fc58809a588>,\n",
       " <pyorient.otypes.OrientCluster at 0x7fc58809a5c0>,\n",
       " <pyorient.otypes.OrientCluster at 0x7fc58809a5f8>,\n",
       " <pyorient.otypes.OrientCluster at 0x7fc58809a630>]"
      ]
     },
     "execution_count": 5,
     "metadata": {},
     "output_type": "execute_result"
    }
   ],
   "source": [
    "# Orientdb Connection\n",
    "client = pyorient.OrientDB(\"localhost\", 2424)\n",
    "client.set_session_token(True)\n",
    "session_id = client.connect(\"root\", \"orientdb\")\n",
    "client.db_open( \"new\", \"root\", \"orientdb\" )"
   ]
  },
  {
   "cell_type": "code",
   "execution_count": 6,
   "metadata": {},
   "outputs": [
    {
     "name": "stdout",
     "output_type": "stream",
     "text": [
      "['id.ac', 0.10096168518066406, 0.05386519432067871, 0.059763193130493164, 0.0756230354309082, 0.05243563652038574, 0.06117820739746094, 0.07164835929870605, 0.05710101127624512, 0.05239248275756836]\n",
      "['ru.ac', 0.05312657356262207, 0.0519413948059082, 0.051177263259887695, 0.05314230918884277, 0.05190896987915039, 0.052247047424316406, 0.09420037269592285, 0.08577823638916016, 0.06292200088500977]\n",
      "['ut.ac', 0.051192522048950195, 0.05268430709838867, 0.051468849182128906, 0.05388021469116211, 0.05209779739379883, 0.051589012145996094, 0.05185055732727051, 0.05164957046508789, 0.05060601234436035]\n",
      "['acs.ac', 0.05266213417053223, 0.050844669342041016, 0.05060172080993652, 0.05200076103210449, 0.05247902870178223, 0.05209684371948242, 0.05268526077270508, 0.05624127388000488, 0.050910234451293945]\n",
      "['kcu.ac', 0.0510098934173584, 0.051393985748291016, 0.05122685432434082, 0.053093671798706055, 0.05219078063964844, 0.05179142951965332, 0.051160573959350586, 0.05226922035217285, 0.05121469497680664]\n"
     ]
    }
   ],
   "source": [
    "orientResult=[]\n",
    "for apex in candidates:\n",
    "    orientResult.append(apex)\n",
    "    for depth in range(2,11):\n",
    "        start_time = time.time()\n",
    "        result = client.query(\"SELECT $path FROM (TRAVERSE both() FROM (SELECT @rid from `apex` where name = '{}') MAXDEPTH {})\".format(apex,depth),1000,\"*:-1\")\n",
    "        orientResult.append((time.time() - start_time))\n",
    "    writedata(orientResult,'results_any/orientdb.csv')\n",
    "    print(orientResult)\n",
    "    orientResult=[]"
   ]
  },
  {
   "cell_type": "code",
   "execution_count": 7,
   "metadata": {},
   "outputs": [],
   "source": [
    "client = ArangoClient(hosts='http://localhost:8529')\n",
    "db = client.db('new', username='root', password='graphdbbenchmark')"
   ]
  },
  {
   "cell_type": "code",
   "execution_count": 8,
   "metadata": {},
   "outputs": [
    {
     "name": "stdout",
     "output_type": "stream",
     "text": [
      "['id.ac', 0.012299299240112305, 0.003940105438232422, 0.0037131309509277344, 0.006139278411865234, 0.0036509037017822266, 0.008550167083740234, 0.0039288997650146484, 0.003633260726928711, 0.008384227752685547]\n",
      "['ru.ac', 0.0041654109954833984, 0.007112979888916016, 0.003890514373779297, 0.0037293434143066406, 0.008425712585449219, 0.003979921340942383, 0.0037255287170410156, 0.0036525726318359375, 0.0038001537322998047]\n",
      "['ut.ac', 0.003631114959716797, 0.003457784652709961, 0.0034699440002441406, 0.0036194324493408203, 0.003452777862548828, 0.0033674240112304688, 0.0035314559936523438, 0.003554821014404297, 0.0035247802734375]\n",
      "['acs.ac', 0.0034873485565185547, 0.0035529136657714844, 0.003542184829711914, 0.003464221954345703, 0.003572702407836914, 0.003408193588256836, 0.0036122798919677734, 0.0037767887115478516, 0.0038471221923828125]\n",
      "['kcu.ac', 0.0036873817443847656, 0.004589080810546875, 0.0038709640502929688, 0.0038149356842041016, 0.003729104995727539, 0.0037331581115722656, 0.003882169723510742, 0.003857135772705078, 0.003942728042602539]\n"
     ]
    }
   ],
   "source": [
    "arangoResult=[]\n",
    "for apex in candidates:\n",
    "    arangoResult.append(apex)\n",
    "    for depth in range(2,11):\n",
    "        query=\"\"\"FOR v,e,p IN 1..{} ANY '{}' GRAPH 'final' OPTIONS {{ bfs:true,uniqueVertices: 'path',uniqueEdges: 'path',parallelism:5 }} LIMIT 1000 RETURN distinct p\"\"\".format(depth,apex)\n",
    "        start_time = time.time()\n",
    "        result = db.aql.execute(query)        \n",
    "        arangoResult.append((time.time() - start_time))\n",
    "    writedata(arangoResult,'results_any/arangodb.csv')\n",
    "    print(arangoResult)\n",
    "    arangoResult=[]"
   ]
  },
  {
   "cell_type": "code",
   "execution_count": 9,
   "metadata": {},
   "outputs": [],
   "source": [
    "# Neo4j Connection\n",
    "uri = \"neo4j://0.0.0.0:7687\"\n",
    "driver = GraphDatabase.driver(uri, auth=(\"neo4j\", \"test\"))"
   ]
  },
  {
   "cell_type": "code",
   "execution_count": 10,
   "metadata": {},
   "outputs": [
    {
     "name": "stdout",
     "output_type": "stream",
     "text": [
      "['id.ac', 0.01489114761352539, 0.0038373470306396484, 0.0050237178802490234, 0.004384040832519531, 0.003964662551879883, 0.004649639129638672, 0.004352092742919922, 0.004420757293701172, 0.004803895950317383]\n",
      "['ru.ac', 0.0035009384155273438, 0.0029990673065185547, 0.0031585693359375, 0.00587916374206543, 0.004133701324462891, 0.004437446594238281, 0.004645824432373047, 0.004668712615966797, 0.004838705062866211]\n",
      "['ut.ac', 0.005496978759765625, 0.003578662872314453, 0.005610942840576172, 0.003436565399169922, 0.006192684173583984, 0.005686044692993164, 0.004015684127807617, 0.005156040191650391, 0.004768848419189453]\n",
      "['acs.ac', 0.005034685134887695, 0.0028753280639648438, 0.0028238296508789062, 0.0030794143676757812, 0.0029871463775634766, 0.002969980239868164, 0.0029048919677734375, 0.0031898021697998047, 0.0029201507568359375]\n",
      "['kcu.ac', 0.0036690235137939453, 0.003471851348876953, 0.005646705627441406, 0.003162384033203125, 0.0044689178466796875, 0.0038220882415771484, 0.005053520202636719, 0.003502368927001953, 0.0074388980865478516]\n"
     ]
    }
   ],
   "source": [
    "neoResult=[]\n",
    "for apex in candidates:\n",
    "    neoResult.append(apex)\n",
    "    for depth in range(2,11):        \n",
    "        with driver.session(database='neo4j') as session:\n",
    "            start_time = time.time()\n",
    "            query = \"MATCH p=(a:apex)-[r*1..{}]-() where a._id='apex/{}' RETURN p LIMIT 1000\".format(depth,apex)\n",
    "            result=session.run(query) \n",
    "            neoResult.append((time.time() - start_time))            \n",
    "    writedata(neoResult,'results_any/neo4j.csv')\n",
    "    print(neoResult)\n",
    "    neoResult=[]"
   ]
  },
  {
   "cell_type": "code",
   "execution_count": 11,
   "metadata": {},
   "outputs": [
    {
     "name": "stdout",
     "output_type": "stream",
     "text": [
      "[0.0065185546875, 0.003352451324462891, 0.004452753067016602, 0.003988313674926758, 0.004349422454833984, 0.004313039779663086, 0.004194402694702148, 0.004187536239624023, 0.004954099655151367]\n"
     ]
    }
   ],
   "source": [
    "neo=[]\n",
    "list=[]\n",
    "with open('results_any/neo4j.csv', 'r') as read_obj:\n",
    "    csv_reader = reader(read_obj)\n",
    "    header = next(csv_reader)\n",
    "    if header != None:\n",
    "        for row in csv_reader:\n",
    "            list.append(row)\n",
    "        for i in range(1,10):\n",
    "            sum = 0.0\n",
    "            for row in list:\n",
    "                sum = sum + float(row[i])\n",
    "            neo.append(sum/5)\n",
    "print(neo)"
   ]
  },
  {
   "cell_type": "code",
   "execution_count": 12,
   "metadata": {},
   "outputs": [
    {
     "name": "stdout",
     "output_type": "stream",
     "text": [
      "[0.005454111099243164, 0.004530572891235351, 0.0036973476409912108, 0.0041534423828125, 0.0045662403106689455, 0.004607772827148438, 0.003736066818237305, 0.003694915771484375, 0.004699802398681641]\n"
     ]
    }
   ],
   "source": [
    "arango=[]\n",
    "list=[]\n",
    "with open('results_any/arangodb.csv', 'r') as read_obj:\n",
    "    csv_reader = reader(read_obj)\n",
    "    header = next(csv_reader)\n",
    "    if header != None:\n",
    "        for row in csv_reader:\n",
    "            list.append(row)\n",
    "        for i in range(1,10):\n",
    "            sum = 0.0\n",
    "            for row in list:\n",
    "                sum = sum + float(row[i])\n",
    "            arango.append(sum/5)\n",
    "print(arango)"
   ]
  },
  {
   "cell_type": "code",
   "execution_count": 13,
   "metadata": {},
   "outputs": [
    {
     "name": "stdout",
     "output_type": "stream",
     "text": [
      "[0.06179056167602539, 0.05214591026306152, 0.05284757614135742, 0.057547998428344724, 0.05222244262695312, 0.05378050804138183, 0.06430902481079101, 0.06060786247253418, 0.05360908508300781]\n"
     ]
    }
   ],
   "source": [
    "orient=[]\n",
    "list=[]\n",
    "with open('results_any/orientdb.csv', 'r') as read_obj:\n",
    "    csv_reader = reader(read_obj)\n",
    "    header = next(csv_reader)\n",
    "    if header != None:\n",
    "        for row in csv_reader:\n",
    "            list.append(row)\n",
    "        for i in range(1,10):\n",
    "            sum = 0.0\n",
    "            for row in list:\n",
    "                sum = sum + float(row[i])\n",
    "            orient.append(sum/5)\n",
    "print(orient)"
   ]
  },
  {
   "cell_type": "code",
   "execution_count": 14,
   "metadata": {},
   "outputs": [
    {
     "data": {
      "image/png": "[encoded data removed]",
      "text/plain": [
       "<Figure size 1080x720 with 1 Axes>"
      ]
     },
     "metadata": {
      "needs_background": "light"
     },
     "output_type": "display_data"
    }
   ],
   "source": [
    "plt.figure(figsize=(15, 10))\n",
    "plt.xlabel(\"Depth\")\n",
    "plt.ylabel(\"Time (s)\")\n",
    "plt.title(\"Graph DB Query Performance - Any Direction\")\n",
    "depth = [2,3,4,5,6,7,8,9,10]\n",
    "plt.plot(depth, arango, 'r',label='ArangoDB')\n",
    "plt.plot(depth, neo, 'b',label='Neo4j')\n",
    "plt.plot(depth, orient, 'y',label='OrientDB')\n",
    "plt.legend(loc=\"upper left\")\n",
    "plt.grid(True)\n",
    "plt.show()"
   ]
  },
  {
   "cell_type": "code",
   "execution_count": 15,
   "metadata": {},
   "outputs": [
    {
     "data": {
      "image/png": "[encoded data removed]",
      "text/plain": [
       "<Figure size 1080x720 with 1 Axes>"
      ]
     },
     "metadata": {
      "needs_background": "light"
     },
     "output_type": "display_data"
    }
   ],
   "source": [
    "plt.figure(figsize=(15, 10))\n",
    "w=0.3\n",
    "plt.xlabel(\"Depth\")\n",
    "plt.ylabel(\"Time (s)\")\n",
    "plt.title(\"Graph DB Query Performance - Any Direction\")\n",
    "depth = [2,3,4,5,6,7,8,9,10]\n",
    "\n",
    "bar = np.arange(len(depth))\n",
    "bar1= [i+w for i in bar]\n",
    "bar2= [i-w for i in bar]\n",
    "plt.bar(bar2, neo, w,label='Neo4j')\n",
    "plt.bar(bar, orient, w,label='OrientDB')\n",
    "plt.bar(bar1, arango, w,label='ArangoDB')\n",
    "plt.xticks(bar,depth)\n",
    "plt.legend(loc=\"upper left\")\n",
    "plt.grid(True)\n",
    "plt.show()"
   ]
  }
 ],
 "metadata": {
  "kernelspec": {
   "display_name": "Python 3",
   "language": "python",
   "name": "python3"
  },
  "language_info": {
   "codemirror_mode": {
    "name": "ipython",
    "version": 3
   },
   "file_extension": ".py",
   "mimetype": "text/x-python",
   "name": "python",
   "nbconvert_exporter": "python",
   "pygments_lexer": "ipython3",
   "version": "3.6.9"
  }
 },
 "nbformat": 4,
 "nbformat_minor": 2
}
