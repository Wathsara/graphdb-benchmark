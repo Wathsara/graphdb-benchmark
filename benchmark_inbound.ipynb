{
 "cells": [
  {
   "cell_type": "code",
   "execution_count": 1,
   "metadata": {},
   "outputs": [],
   "source": [
    "import time\n",
    "import csv\n",
    "from csv import reader\n",
    "import pyorient\n",
    "from pyArango.connection import *\n",
    "from neo4j import GraphDatabase\n",
    "from arango import ArangoClient\n",
    "import matplotlib.pyplot as plt\n",
    "import numpy as np\n"
   ]
  },
  {
   "cell_type": "code",
   "execution_count": 2,
   "metadata": {},
   "outputs": [],
   "source": [
    "candidates = ['id.ac','ru.ac','ut.ac','acs.ac','kcu.ac']"
   ]
  },
  {
   "cell_type": "code",
   "execution_count": 3,
   "metadata": {},
   "outputs": [],
   "source": [
    "with open('results_inbound/arangodb.csv', 'w', newline='') as file:\n",
    "    writer = csv.writer(file)\n",
    "    writer.writerow([\"2\",\"3\",\"4\",\"5\",\"6\",\"7\",\"8\",\"9\",\"10\"])\n",
    "    file.close()\n",
    "with open('results_inbound/orientdb.csv', 'w', newline='') as file:\n",
    "    writer = csv.writer(file)\n",
    "    writer.writerow([\"2\",\"3\",\"4\",\"5\",\"6\",\"7\",\"8\",\"9\",\"10\"])\n",
    "    file.close()\n",
    "with open('results_inbound/neo4j.csv', 'w', newline='') as file:\n",
    "    writer = csv.writer(file)\n",
    "    writer.writerow([\"2\",\"3\",\"4\",\"5\",\"6\",\"7\",\"8\",\"9\",\"10\"])\n",
    "    file.close()"
   ]
  },
  {
   "cell_type": "code",
   "execution_count": 4,
   "metadata": {},
   "outputs": [],
   "source": [
    "def writedata(data,filepath):\n",
    "    with open(filepath, 'a', newline='') as file:\n",
    "        writer = csv.writer(file)\n",
    "        writer.writerow(data)\n",
    "        file.close()"
   ]
  },
  {
   "cell_type": "code",
   "execution_count": 5,
   "metadata": {},
   "outputs": [
    {
     "data": {
      "text/plain": [
       "[<pyorient.otypes.OrientCluster at 0x7fc4008b6898>,\n",
       " <pyorient.otypes.OrientCluster at 0x7fc4008c02b0>,\n",
       " <pyorient.otypes.OrientCluster at 0x7fc4008c0358>,\n",
       " <pyorient.otypes.OrientCluster at 0x7fc4008cb630>,\n",
       " <pyorient.otypes.OrientCluster at 0x7fc4008cbcc0>,\n",
       " <pyorient.otypes.OrientCluster at 0x7fc40064a048>,\n",
       " <pyorient.otypes.OrientCluster at 0x7fc40064a080>,\n",
       " <pyorient.otypes.OrientCluster at 0x7fc40064a0b8>,\n",
       " <pyorient.otypes.OrientCluster at 0x7fc40064a0f0>,\n",
       " <pyorient.otypes.OrientCluster at 0x7fc40064a128>,\n",
       " <pyorient.otypes.OrientCluster at 0x7fc40064a160>,\n",
       " <pyorient.otypes.OrientCluster at 0x7fc40064a198>,\n",
       " <pyorient.otypes.OrientCluster at 0x7fc40064a1d0>,\n",
       " <pyorient.otypes.OrientCluster at 0x7fc40064a208>,\n",
       " <pyorient.otypes.OrientCluster at 0x7fc40064a240>,\n",
       " <pyorient.otypes.OrientCluster at 0x7fc40064a278>,\n",
       " <pyorient.otypes.OrientCluster at 0x7fc40064a2b0>,\n",
       " <pyorient.otypes.OrientCluster at 0x7fc40064a2e8>,\n",
       " <pyorient.otypes.OrientCluster at 0x7fc40064a320>,\n",
       " <pyorient.otypes.OrientCluster at 0x7fc40064a358>,\n",
       " <pyorient.otypes.OrientCluster at 0x7fc40064a390>,\n",
       " <pyorient.otypes.OrientCluster at 0x7fc40064a3c8>,\n",
       " <pyorient.otypes.OrientCluster at 0x7fc40064a400>,\n",
       " <pyorient.otypes.OrientCluster at 0x7fc40064a438>,\n",
       " <pyorient.otypes.OrientCluster at 0x7fc40064a470>,\n",
       " <pyorient.otypes.OrientCluster at 0x7fc40064a4a8>,\n",
       " <pyorient.otypes.OrientCluster at 0x7fc40064a4e0>,\n",
       " <pyorient.otypes.OrientCluster at 0x7fc40064a518>,\n",
       " <pyorient.otypes.OrientCluster at 0x7fc40064a550>,\n",
       " <pyorient.otypes.OrientCluster at 0x7fc40064a588>]"
      ]
     },
     "execution_count": 5,
     "metadata": {},
     "output_type": "execute_result"
    }
   ],
   "source": [
    "# Orientdb Connection\n",
    "client = pyorient.OrientDB(\"localhost\", 2424)\n",
    "client.set_session_token(True)\n",
    "session_id = client.connect(\"root\", \"orientdb\")\n",
    "client.db_open( \"new\", \"root\", \"orientdb\" )"
   ]
  },
  {
   "cell_type": "code",
   "execution_count": 6,
   "metadata": {},
   "outputs": [
    {
     "name": "stdout",
     "output_type": "stream",
     "text": [
      "['id.ac', 0.04035615921020508, 0.03434920310974121, 0.03412008285522461, 0.0377194881439209, 0.041666269302368164, 0.03528594970703125, 0.03341102600097656, 0.03359484672546387, 0.034078359603881836]\n",
      "['ru.ac', 0.03470492362976074, 0.034018516540527344, 0.03386235237121582, 0.0345454216003418, 0.03520321846008301, 0.03973388671875, 0.03383517265319824, 0.034842491149902344, 0.036550283432006836]\n",
      "['ut.ac', 0.0513455867767334, 0.03408670425415039, 0.03445601463317871, 0.03367352485656738, 0.03376507759094238, 0.036278486251831055, 0.03431391716003418, 0.03399658203125, 0.03403472900390625]\n",
      "['acs.ac', 0.03424072265625, 0.03372550010681152, 0.03350234031677246, 0.0348052978515625, 0.03426098823547363, 0.03493452072143555, 0.033402442932128906, 0.033498287200927734, 0.0338594913482666]\n",
      "['kcu.ac', 0.034247398376464844, 0.034558773040771484, 0.03455185890197754, 0.03360915184020996, 0.03385734558105469, 0.035069942474365234, 0.03499889373779297, 0.03429222106933594, 0.03412008285522461]\n"
     ]
    }
   ],
   "source": [
    "orientResult=[]\n",
    "for apex in candidates:\n",
    "    orientResult.append(apex)\n",
    "    for depth in range(2,11):\n",
    "        start_time = time.time()\n",
    "        result = client.query(\"SELECT $path FROM (TRAVERSE in() FROM (SELECT @rid from `apex` where name = '{}') MAXDEPTH {})\".format(apex,depth),1000,\"*:-1\")\n",
    "        orientResult.append((time.time() - start_time))\n",
    "    writedata(orientResult,'results_inbound/orientdb.csv')\n",
    "    print(orientResult)\n",
    "    orientResult=[]"
   ]
  },
  {
   "cell_type": "code",
   "execution_count": 7,
   "metadata": {},
   "outputs": [],
   "source": [
    "client = ArangoClient(hosts='http://localhost:8529')\n",
    "db = client.db('new', username='root', password='graphdbbenchmark')"
   ]
  },
  {
   "cell_type": "code",
   "execution_count": 8,
   "metadata": {},
   "outputs": [
    {
     "name": "stdout",
     "output_type": "stream",
     "text": [
      "['id.ac', 0.00972890853881836, 0.0034351348876953125, 0.0028977394104003906, 0.003434419631958008, 0.003025054931640625, 0.0030112266540527344, 0.00390625, 0.00331878662109375, 0.003149747848510742]\n",
      "['ru.ac', 0.003144979476928711, 0.002989530563354492, 0.002788066864013672, 0.0028183460235595703, 0.0026984214782714844, 0.002526998519897461, 0.0025370121002197266, 0.002485036849975586, 0.0025789737701416016]\n",
      "['ut.ac', 0.003081798553466797, 0.0035026073455810547, 0.0031485557556152344, 0.0030012130737304688, 0.0030128955841064453, 0.002970457077026367, 0.0029964447021484375, 0.003028392791748047, 0.0032813549041748047]\n",
      "['acs.ac', 0.003528118133544922, 0.003209352493286133, 0.003401041030883789, 0.0029327869415283203, 0.0028257369995117188, 0.003244638442993164, 0.002870798110961914, 0.0027992725372314453, 0.0028603076934814453]\n",
      "['kcu.ac', 0.0034673213958740234, 0.003087759017944336, 0.002758026123046875, 0.0028138160705566406, 0.0031833648681640625, 0.0033185482025146484, 0.00290679931640625, 0.003545045852661133, 0.0028781890869140625]\n"
     ]
    }
   ],
   "source": [
    "arangoResult=[]\n",
    "for apex in candidates:\n",
    "    arangoResult.append(apex)\n",
    "    for depth in range(2,11):\n",
    "        start_time = time.time()\n",
    "        query = \"FOR v,e,p IN 1..{} inbound 'apex/{}' GRAPH 'final' LIMIT 1000 RETURN p\".format(depth,apex)        \n",
    "        db.aql.execute(query)\n",
    "        arangoResult.append((time.time() - start_time))\n",
    "    writedata(arangoResult,'results_inbound/arangodb.csv')\n",
    "    print(arangoResult)\n",
    "    arangoResult=[]"
   ]
  },
  {
   "cell_type": "code",
   "execution_count": 9,
   "metadata": {},
   "outputs": [],
   "source": [
    "# Neo4j Connection\n",
    "uri = \"neo4j://0.0.0.0:7687\"\n",
    "driver = GraphDatabase.driver(uri, auth=(\"neo4j\", \"test\"))"
   ]
  },
  {
   "cell_type": "code",
   "execution_count": 10,
   "metadata": {},
   "outputs": [
    {
     "name": "stdout",
     "output_type": "stream",
     "text": [
      "['id.ac', 0.020593643188476562, 0.00875401496887207, 0.05206894874572754, 0.00953364372253418, 0.009605884552001953, 0.009059906005859375, 0.009092330932617188, 0.008634567260742188, 0.008754491806030273]\n",
      "['ru.ac', 0.008833885192871094, 0.008695125579833984, 0.009938955307006836, 0.009037017822265625, 0.00889134407043457, 0.009067296981811523, 0.008650541305541992, 0.00856161117553711, 0.008926868438720703]\n",
      "['ut.ac', 0.009294748306274414, 0.008916854858398438, 0.00885915756225586, 0.008978843688964844, 0.008796453475952148, 0.008742332458496094, 0.008886098861694336, 0.008990287780761719, 0.010671854019165039]\n",
      "['acs.ac', 0.008992910385131836, 0.010000467300415039, 0.00903773307800293, 0.009026050567626953, 0.008694887161254883, 0.008889198303222656, 0.008770227432250977, 0.008789300918579102, 0.00898122787475586]\n",
      "['kcu.ac', 0.009118795394897461, 0.008615255355834961, 0.008662223815917969, 0.008648157119750977, 0.009097576141357422, 0.009289264678955078, 0.008824825286865234, 0.009234189987182617, 0.008931159973144531]\n"
     ]
    }
   ],
   "source": [
    "neoResult=[]\n",
    "for apex in candidates:\n",
    "    neoResult.append(apex)\n",
    "    for depth in range(2,11):        \n",
    "        with driver.session(database='neo4j') as session:\n",
    "            start_time = time.time()\n",
    "            query = \"MATCH p=(a:apex)<-[r*1..{}]-() where a._id='apex/{}' RETURN p LIMIT 1000\".format(depth,apex)\n",
    "            result=session.run(query)           \n",
    "            neoResult.append((time.time() - start_time))\n",
    "    writedata(neoResult,'results_inbound/neo4j.csv')\n",
    "    print(neoResult)\n",
    "    neoResult=[]"
   ]
  },
  {
   "cell_type": "code",
   "execution_count": 11,
   "metadata": {},
   "outputs": [
    {
     "name": "stdout",
     "output_type": "stream",
     "text": [
      "[0.011366796493530274, 0.008996343612670899, 0.017713403701782225, 0.009044742584228516, 0.009017229080200195, 0.009009599685668945, 0.008844804763793946, 0.008841991424560547, 0.009253120422363282]\n"
     ]
    }
   ],
   "source": [
    "neo=[]\n",
    "list=[]\n",
    "with open('results_inbound/neo4j.csv', 'r') as read_obj:\n",
    "    csv_reader = reader(read_obj)\n",
    "    header = next(csv_reader)\n",
    "    if header != None:\n",
    "        for row in csv_reader:\n",
    "            list.append(row)\n",
    "        for i in range(1,10):\n",
    "            sum = 0.0\n",
    "            for row in list:\n",
    "                sum = sum + float(row[i])\n",
    "            neo.append(sum/5)\n",
    "print(neo)"
   ]
  },
  {
   "cell_type": "code",
   "execution_count": 12,
   "metadata": {},
   "outputs": [
    {
     "name": "stdout",
     "output_type": "stream",
     "text": [
      "[0.004590225219726562, 0.0032448768615722656, 0.002998685836791992, 0.0030001163482666015, 0.002949094772338867, 0.003014373779296875, 0.003043460845947266, 0.003035306930541992, 0.0029497146606445312]\n"
     ]
    }
   ],
   "source": [
    "arango=[]\n",
    "list=[]\n",
    "with open('results_inbound/arangodb.csv', 'r') as read_obj:\n",
    "    csv_reader = reader(read_obj)\n",
    "    header = next(csv_reader)\n",
    "    if header != None:\n",
    "        for row in csv_reader:\n",
    "            list.append(row)\n",
    "        for i in range(1,10):\n",
    "            sum = 0.0\n",
    "            for row in list:\n",
    "                sum = sum + float(row[i])\n",
    "            arango.append(sum/5)\n",
    "print(arango)"
   ]
  },
  {
   "cell_type": "code",
   "execution_count": 13,
   "metadata": {},
   "outputs": [
    {
     "name": "stdout",
     "output_type": "stream",
     "text": [
      "[0.038978958129882814, 0.03414773941040039, 0.03409852981567383, 0.034870576858520505, 0.03575057983398437, 0.036260557174682614, 0.03399229049682617, 0.03404488563537598, 0.034528589248657225]\n"
     ]
    }
   ],
   "source": [
    "orient=[]\n",
    "list=[]\n",
    "with open('results_inbound/orientdb.csv', 'r') as read_obj:\n",
    "    csv_reader = reader(read_obj)\n",
    "    header = next(csv_reader)\n",
    "    if header != None:\n",
    "        for row in csv_reader:\n",
    "            list.append(row)\n",
    "        for i in range(1,10):\n",
    "            sum = 0.0\n",
    "            for row in list:\n",
    "                sum = sum + float(row[i])\n",
    "            orient.append(sum/5)\n",
    "print(orient)"
   ]
  },
  {
   "cell_type": "code",
   "execution_count": 16,
   "metadata": {},
   "outputs": [
    {
     "data": {
      "image/png": "[encoded data removed]",
      "text/plain": [
       "<Figure size 1080x720 with 1 Axes>"
      ]
     },
     "metadata": {
      "needs_background": "light"
     },
     "output_type": "display_data"
    }
   ],
   "source": [
    "import matplotlib.pyplot as plt\n",
    "plt.figure(figsize=(15, 10))\n",
    "plt.xlabel(\"Depth\")\n",
    "plt.ylabel(\"Time (s)\")\n",
    "plt.title(\"Graph DB Query Performance - InBound\")\n",
    "depth = [2,3,4,5,6,7,8,9,10]\n",
    "plt.plot(depth, arango, 'r',label='ArangoDB')\n",
    "plt.plot(depth, neo, 'b',label='Neo4j')\n",
    "plt.plot(depth, orient, 'y',label='OrientDB') \n",
    "plt.legend(loc=\"upper left\")\n",
    "plt.grid(True)\n",
    "plt.show()"
   ]
  },
  {
   "cell_type": "code",
   "execution_count": 17,
   "metadata": {},
   "outputs": [
    {
     "data": {
      "image/png": "[encoded data removed]",
      "text/plain": [
       "<Figure size 1080x720 with 1 Axes>"
      ]
     },
     "metadata": {
      "needs_background": "light"
     },
     "output_type": "display_data"
    }
   ],
   "source": [
    "plt.figure(figsize=(15, 10))\n",
    "w=0.3\n",
    "plt.xlabel(\"Depth\")\n",
    "plt.ylabel(\"Time (s)\")\n",
    "plt.title(\"Graph DB Query Performance - Inbound\")\n",
    "depth = [2,3,4,5,6,7,8,9,10]\n",
    "\n",
    "bar = np.arange(len(depth))\n",
    "bar1= [i+w for i in bar]\n",
    "bar2= [i-w for i in bar]\n",
    "plt.bar(bar2, neo, w,label='Neo4j')\n",
    "plt.bar(bar, orient, w,label='OrientDB')\n",
    "plt.bar(bar1, arango, w,label='ArangoDB')\n",
    "plt.xticks(bar,depth)\n",
    "plt.legend(loc=\"upper left\")\n",
    "plt.grid(True)\n",
    "plt.show()"
   ]
  }
 ],
 "metadata": {
  "kernelspec": {
   "display_name": "Python 3",
   "language": "python",
   "name": "python3"
  },
  "language_info": {
   "codemirror_mode": {
    "name": "ipython",
    "version": 3
   },
   "file_extension": ".py",
   "mimetype": "text/x-python",
   "name": "python",
   "nbconvert_exporter": "python",
   "pygments_lexer": "ipython3",
   "version": "3.6.9"
  }
 },
 "nbformat": 4,
 "nbformat_minor": 2
}
